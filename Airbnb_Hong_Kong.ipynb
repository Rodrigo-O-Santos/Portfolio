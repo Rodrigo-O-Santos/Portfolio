{
  "nbformat": 4,
  "nbformat_minor": 0,
  "metadata": {
    "colab": {
      "name": "Airbnb_Hong Kong.ipynb",
      "provenance": [],
      "collapsed_sections": [],
      "include_colab_link": true
    },
    "kernelspec": {
      "name": "python3",
      "display_name": "Python 3"
    }
  },
  "cells": [
    {
      "cell_type": "markdown",
      "metadata": {
        "id": "view-in-github",
        "colab_type": "text"
      },
      "source": [
        "<a href=\"https://colab.research.google.com/github/Rodrigo-O-Santos/Portfolio/blob/master/Airbnb_Hong_Kong.ipynb\" target=\"_parent\"><img src=\"https://colab.research.google.com/assets/colab-badge.svg\" alt=\"Open In Colab\"/></a>"
      ]
    },
    {
      "cell_type": "markdown",
      "metadata": {
        "id": "kLI0gJtzDGuQ",
        "colab_type": "text"
      },
      "source": [
        "# Análise dos Dados do Airbnb - Hong Kong\n",
        "\n",
        "O [Airbnb](https://www.airbnb.com.br/) já é considerado como sendo a **maior empresa hoteleira da atualidade**. Ah, o detalhe é que ele **não possui nenhum hotel**!\n",
        "\n",
        "Conectando pessoas que querem viajar (e se hospedar) com anfitriões que querem alugar seus imóveis de maneira prática, o Airbnb fornece uma plataforma inovadora para tornar essa hospedagem alternativa.\n",
        "\n",
        "No final de 2018, a Startup fundada 10 anos atrás, já havia **hospedado mais de 300 milhões** de pessoas ao redor de todo o mundo, desafiando as redes hoteleiras tradicionais.\n",
        "\n",
        "Uma das iniciativas do Airbnb é disponibilizar dados do site, para algumas das principais cidades do mundo. Por meio do portal [Inside Airbnb](http://insideairbnb.com/get-the-data.html), é possível baixar uma grande quantidade de dados para desenvolver projetos e soluções de *Data Science*.\n",
        "\n",
        "<center><img alt=\"Analisando Airbnb\" width=\"10%\" src=\"https://www.area360.com.au/wp-content/uploads/2017/09/airbnb-logo.jpg\"></center>\n",
        "\n",
        "Em pesquisa ao site [GPC - Global Property Guide](https://www.globalpropertyguide.com/most-expensive-cities), podemos verificar que Hong Kong possui o metro quadrado mais caro do mundo seguido de Londres (aluguel/mês):\n",
        "\n",
        "Hong Kong - $ 7,267\n",
        "\n",
        "Londres - $ 6,388\n",
        "<center><img src = \"https://seeklogo.com/images/F/flag-map-of-hong-kong-logo-C9ADBD56BD-seeklogo.com.png\" height = \"100px\"></center>\n",
        "\n",
        "**Neste *notebook*, iremos analisar os dados do Airbnb, referentes à cidade de Honk Kong, e ver quais insights podem ser extraídos a partir de dados brutos.**"
      ]
    },
    {
      "cell_type": "markdown",
      "metadata": {
        "id": "0zxQHhIUDF_2",
        "colab_type": "text"
      },
      "source": [
        "## Obtenção dos Dados\n",
        "Todos os dados obtidos para esta análise foram obtidos do site [Inside Airbnb](http://insideairbnb.com/get-the-data.html).\n",
        "\n",
        "Para esta análise, foi extraído um arquivo do site citado:\n",
        "* `listings.csv` - *Summary information and metrics for listings in Hong Kong (good for visualisations).*\n",
        "\n"
      ]
    },
    {
      "cell_type": "code",
      "metadata": {
        "id": "Vhp2wMPgJ6zX",
        "colab_type": "code",
        "colab": {
          "base_uri": "https://localhost:8080/",
          "height": 70
        },
        "outputId": "92dff400-495e-4a0a-e784-5bb262272efc"
      },
      "source": [
        "# importar os pacotes necessários\n",
        "import pandas as pd\n",
        "import matplotlib.pyplot as plt\n",
        "import seaborn as sns\n",
        "import numpy as np\n",
        "import _random\n",
        "\n",
        "%matplotlib inline"
      ],
      "execution_count": null,
      "outputs": [
        {
          "output_type": "stream",
          "text": [
            "/usr/local/lib/python3.6/dist-packages/statsmodels/tools/_testing.py:19: FutureWarning: pandas.util.testing is deprecated. Use the functions in the public API at pandas.testing instead.\n",
            "  import pandas.util.testing as tm\n"
          ],
          "name": "stderr"
        }
      ]
    },
    {
      "cell_type": "code",
      "metadata": {
        "id": "tUmoAT8DLQ5T",
        "colab_type": "code",
        "colab": {}
      },
      "source": [
        "# importar o arquivo listings.csv para um DataFrame\n",
        "df = pd.read_csv(\"http://data.insideairbnb.com/china/hk/hong-kong/2020-04-29/visualisations/listings.csv\")"
      ],
      "execution_count": null,
      "outputs": []
    },
    {
      "cell_type": "markdown",
      "metadata": {
        "id": "qb5By2nIMS6m",
        "colab_type": "text"
      },
      "source": [
        "## Análise dos Dados\n",
        " \n",
        "\n",
        "O objetivo é mostrar como os dados extraídos anteriormente estão estruturados. "
      ]
    },
    {
      "cell_type": "markdown",
      "metadata": {
        "id": "l92gGxSh7JZN",
        "colab_type": "text"
      },
      "source": [
        "**Hong Kong** possui aproxidamente 7.5 milhões de habitantes (dados de 2018) e possui um forte turismo que representa cerca de 5% PIB (14º destino mais popular). Em 2016 foram 26.6 milhões de visitantes contribuindo com $32.9 bilhões na economia. Porém, perceba que temos poucos bairros oferecendo o serviço de hospedagem pelo Airbnb: apenas 18.\n",
        "\n",
        "Como comparação, o Rio de Janeiro que é a cidade que mais recebe turista no Brasil, possui aproximadamente 6.6 milhões de habitantes (dados de 2015) e recebeu em 2016, aproxidamente, 6.5 milhoes de turistas, possui 51* bairros com o serviço de hospedagem pelo Airbnb.\n",
        "\n",
        "***Dados retirados do mesmo site do Airbnb, referente a cidade do Rio de Janeiro**"
      ]
    },
    {
      "cell_type": "markdown",
      "metadata": {
        "id": "RYgvuebKNg8-",
        "colab_type": "text"
      },
      "source": [
        "**Dicionário das variáveis**\n",
        "\n",
        "* `id` - número gerado para identificar o imóvel\n",
        "* `name` - nome da propriedade anunciada\n",
        "* `host_id` - número que identifica o proprietário do imóvel\n",
        "* `host_name` - nome do proprietário\n",
        "* `neighbourhood_group` - coluna não possui nenhum valor válido\n",
        "* `neighbourhood` - nome do bairro\n",
        "* `latitude` - coordenada de latitude da propriedade\n",
        "* `longitude` - coordenada de longitude da propriedade\n",
        "* `room_type` - tipo de imóvel ofertado (quarto, apt inteiro, casa)\n",
        "*\t`price` - preço cobrado pela diária\n",
        "*\t`minimum_nights` - mínimo de noites necessárias para alugar o imóvel\n",
        "*\t`number_of_reviews` - números de análises que a propriedade possui\n",
        "*\t`last_review` - data da última análise feita\n",
        "*\t`reviews_per_month` - análises recebidas por mês\n",
        "*\t`calculated_host_listings_count` - número de imóveis do mesmo proprietário\n",
        "*\t`availability_365` - número de dias disponíveis (considerando 365 dias)\n",
        "\n",
        "\n",
        "Antes de iniciar qualquer análise, vamos analisar a cara do nosso *dataset*, analisando as 5 primeiras entradas.\n",
        "\n",
        "Na sequência, vamos verificar quais os bairros de Hong Kong possuem imóveis disponíveis para aluguel pelo Airbnb."
      ]
    },
    {
      "cell_type": "code",
      "metadata": {
        "id": "uV06vFuFzr6C",
        "colab_type": "code",
        "colab": {
          "base_uri": "https://localhost:8080/",
          "height": 518
        },
        "outputId": "0dc2e596-7690-4699-b6cf-1a80563d7304"
      },
      "source": [
        "df.head()"
      ],
      "execution_count": null,
      "outputs": [
        {
          "output_type": "execute_result",
          "data": {
            "text/html": [
              "<div>\n",
              "<style scoped>\n",
              "    .dataframe tbody tr th:only-of-type {\n",
              "        vertical-align: middle;\n",
              "    }\n",
              "\n",
              "    .dataframe tbody tr th {\n",
              "        vertical-align: top;\n",
              "    }\n",
              "\n",
              "    .dataframe thead th {\n",
              "        text-align: right;\n",
              "    }\n",
              "</style>\n",
              "<table border=\"1\" class=\"dataframe\">\n",
              "  <thead>\n",
              "    <tr style=\"text-align: right;\">\n",
              "      <th></th>\n",
              "      <th>id</th>\n",
              "      <th>name</th>\n",
              "      <th>host_id</th>\n",
              "      <th>host_name</th>\n",
              "      <th>neighbourhood_group</th>\n",
              "      <th>neighbourhood</th>\n",
              "      <th>latitude</th>\n",
              "      <th>longitude</th>\n",
              "      <th>room_type</th>\n",
              "      <th>price</th>\n",
              "      <th>minimum_nights</th>\n",
              "      <th>number_of_reviews</th>\n",
              "      <th>last_review</th>\n",
              "      <th>reviews_per_month</th>\n",
              "      <th>calculated_host_listings_count</th>\n",
              "      <th>availability_365</th>\n",
              "    </tr>\n",
              "  </thead>\n",
              "  <tbody>\n",
              "    <tr>\n",
              "      <th>0</th>\n",
              "      <td>69074</td>\n",
              "      <td>Beautiful oasis of plants &amp; art @ best location</td>\n",
              "      <td>160139</td>\n",
              "      <td>Amy</td>\n",
              "      <td>NaN</td>\n",
              "      <td>Central &amp; Western</td>\n",
              "      <td>22.28352</td>\n",
              "      <td>114.15018</td>\n",
              "      <td>Entire home/apt</td>\n",
              "      <td>1395</td>\n",
              "      <td>3</td>\n",
              "      <td>134</td>\n",
              "      <td>2020-03-24</td>\n",
              "      <td>1.20</td>\n",
              "      <td>1</td>\n",
              "      <td>138</td>\n",
              "    </tr>\n",
              "    <tr>\n",
              "      <th>1</th>\n",
              "      <td>75083</td>\n",
              "      <td>SoHo off Hollywood Road  3B</td>\n",
              "      <td>304876</td>\n",
              "      <td>Brend</td>\n",
              "      <td>NaN</td>\n",
              "      <td>Central &amp; Western</td>\n",
              "      <td>22.28398</td>\n",
              "      <td>114.14839</td>\n",
              "      <td>Entire home/apt</td>\n",
              "      <td>783</td>\n",
              "      <td>14</td>\n",
              "      <td>228</td>\n",
              "      <td>2017-08-14</td>\n",
              "      <td>2.04</td>\n",
              "      <td>13</td>\n",
              "      <td>335</td>\n",
              "    </tr>\n",
              "    <tr>\n",
              "      <th>2</th>\n",
              "      <td>103760</td>\n",
              "      <td>Central Centre 5 min walk to/from Central MTR</td>\n",
              "      <td>304876</td>\n",
              "      <td>Brend</td>\n",
              "      <td>NaN</td>\n",
              "      <td>Central &amp; Western</td>\n",
              "      <td>22.28407</td>\n",
              "      <td>114.15570</td>\n",
              "      <td>Entire home/apt</td>\n",
              "      <td>845</td>\n",
              "      <td>2</td>\n",
              "      <td>270</td>\n",
              "      <td>2020-04-08</td>\n",
              "      <td>2.50</td>\n",
              "      <td>13</td>\n",
              "      <td>360</td>\n",
              "    </tr>\n",
              "    <tr>\n",
              "      <th>3</th>\n",
              "      <td>132773</td>\n",
              "      <td>Fabulous 2 Bdrm Aprt Open kitchen</td>\n",
              "      <td>304876</td>\n",
              "      <td>Brend</td>\n",
              "      <td>NaN</td>\n",
              "      <td>Central &amp; Western</td>\n",
              "      <td>22.28868</td>\n",
              "      <td>114.14494</td>\n",
              "      <td>Entire home/apt</td>\n",
              "      <td>1046</td>\n",
              "      <td>2</td>\n",
              "      <td>304</td>\n",
              "      <td>2020-04-05</td>\n",
              "      <td>2.84</td>\n",
              "      <td>13</td>\n",
              "      <td>348</td>\n",
              "    </tr>\n",
              "    <tr>\n",
              "      <th>4</th>\n",
              "      <td>133390</td>\n",
              "      <td>Soho, Hong Kong 1 bedroom flat</td>\n",
              "      <td>654642</td>\n",
              "      <td>Robin</td>\n",
              "      <td>NaN</td>\n",
              "      <td>Central &amp; Western</td>\n",
              "      <td>22.28343</td>\n",
              "      <td>114.15539</td>\n",
              "      <td>Entire home/apt</td>\n",
              "      <td>930</td>\n",
              "      <td>2</td>\n",
              "      <td>27</td>\n",
              "      <td>2015-06-30</td>\n",
              "      <td>0.25</td>\n",
              "      <td>1</td>\n",
              "      <td>87</td>\n",
              "    </tr>\n",
              "  </tbody>\n",
              "</table>\n",
              "</div>"
            ],
            "text/plain": [
              "       id  ... availability_365\n",
              "0   69074  ...              138\n",
              "1   75083  ...              335\n",
              "2  103760  ...              360\n",
              "3  132773  ...              348\n",
              "4  133390  ...               87\n",
              "\n",
              "[5 rows x 16 columns]"
            ]
          },
          "metadata": {
            "tags": []
          },
          "execution_count": 3
        }
      ]
    },
    {
      "cell_type": "code",
      "metadata": {
        "id": "2iS_dae7YQtO",
        "colab_type": "code",
        "colab": {
          "base_uri": "https://localhost:8080/",
          "height": 84
        },
        "outputId": "d7c482e4-0f2d-4477-a089-b3fdc2bd33d6"
      },
      "source": [
        "# mostrar os bairros com imóveis para alugar no Airbnb\n",
        "df['neighbourhood'].unique()"
      ],
      "execution_count": null,
      "outputs": [
        {
          "output_type": "execute_result",
          "data": {
            "text/plain": [
              "array(['Central & Western', 'Yau Tsim Mong', 'Wan Chai', 'Yuen Long',\n",
              "       'Southern', 'Eastern', 'Islands', 'Kowloon City', 'Kwai Tsing',\n",
              "       'North', 'Sha Tin', 'Sham Shui Po', 'Tuen Mun', 'Sai Kung',\n",
              "       'Wong Tai Sin', 'Tai Po', 'Tsuen Wan', 'Kwun Tong'], dtype=object)"
            ]
          },
          "metadata": {
            "tags": []
          },
          "execution_count": 4
        }
      ]
    },
    {
      "cell_type": "code",
      "metadata": {
        "id": "dHxT-xACgwQh",
        "colab_type": "code",
        "colab": {
          "base_uri": "https://localhost:8080/",
          "height": 50
        },
        "outputId": "4fed4798-961e-4da9-9759-a30a1f9b8bfa"
      },
      "source": [
        "df['room_type'].unique()"
      ],
      "execution_count": null,
      "outputs": [
        {
          "output_type": "execute_result",
          "data": {
            "text/plain": [
              "array(['Entire home/apt', 'Private room', 'Shared room', 'Hotel room'],\n",
              "      dtype=object)"
            ]
          },
          "metadata": {
            "tags": []
          },
          "execution_count": 5
        }
      ]
    },
    {
      "cell_type": "markdown",
      "metadata": {
        "id": "6-B_qtEaYEd-",
        "colab_type": "text"
      },
      "source": [
        "### **Q1. Quantos atributos (variáveis) e quantas entradas o nosso conjunto de dados possui? Quais os tipos das variáveis?**\n",
        "\n",
        "Vamos verificar quais e quantos são os tipos de dados diferentes que teremos para análise neste conjunto de dados.\n",
        "Vamos ver também o tipo de cada coluna.\n",
        "\n"
      ]
    },
    {
      "cell_type": "code",
      "metadata": {
        "id": "TFRK0tniLV-G",
        "colab_type": "code",
        "colab": {
          "base_uri": "https://localhost:8080/",
          "height": 353
        },
        "outputId": "81fee968-4fdb-4da0-fc9f-a95355037934"
      },
      "source": [
        "# identificar o volume de dados do DataFrame\n",
        "print(\"Entradas:\\t {}\".format(df.shape[0]))\n",
        "print(\"Variáveis:\\t {}\\n\".format(df.shape[1]))\n",
        "\n",
        "# verificar as 5 primeiras entradas do dataset\n",
        "display(df.dtypes)"
      ],
      "execution_count": null,
      "outputs": [
        {
          "output_type": "stream",
          "text": [
            "Entradas:\t 11535\n",
            "Variáveis:\t 16\n",
            "\n"
          ],
          "name": "stdout"
        },
        {
          "output_type": "display_data",
          "data": {
            "text/plain": [
              "id                                  int64\n",
              "name                               object\n",
              "host_id                             int64\n",
              "host_name                          object\n",
              "neighbourhood_group               float64\n",
              "neighbourhood                      object\n",
              "latitude                          float64\n",
              "longitude                         float64\n",
              "room_type                          object\n",
              "price                               int64\n",
              "minimum_nights                      int64\n",
              "number_of_reviews                   int64\n",
              "last_review                        object\n",
              "reviews_per_month                 float64\n",
              "calculated_host_listings_count      int64\n",
              "availability_365                    int64\n",
              "dtype: object"
            ]
          },
          "metadata": {
            "tags": []
          }
        }
      ]
    },
    {
      "cell_type": "markdown",
      "metadata": {
        "id": "yz1urSUGW9iE",
        "colab_type": "text"
      },
      "source": [
        "### **Q2. Qual a porcentagem de valores ausentes no *dataset*?**\n",
        "\n",
        "Para que não tenhamos uma análise influenciada de forma negativa por um número excessivo de valores ausentes no *dataset*.\n",
        "Sendo assim, é importante detectarmos se existe e qual o tamanho dos valores ausentes em nosso conjunto de dados."
      ]
    },
    {
      "cell_type": "markdown",
      "metadata": {
        "id": "PZwOFxarpAeh",
        "colab_type": "text"
      },
      "source": [
        "Podemos perceber que:\n",
        "* a coluna **neighbourhood_group** possui 100% dos dados nulos;\n",
        "* as colunas **reviews_per_month** e **last_review** possuem cerca de 35% dos dados nulos;\n",
        "* a coluna **name** possui menos de 1% dos dados nulos. "
      ]
    },
    {
      "cell_type": "code",
      "metadata": {
        "id": "plk2FjbCXOqP",
        "colab_type": "code",
        "colab": {
          "base_uri": "https://localhost:8080/",
          "height": 302
        },
        "outputId": "649c2d62-0243-4ce5-e6fa-b589c26e07c2"
      },
      "source": [
        "# ordenar em ordem decrescente as variáveis por seus valores ausentes\n",
        "(df.isnull().sum() / df.shape[0]).sort_values(ascending=False)"
      ],
      "execution_count": null,
      "outputs": [
        {
          "output_type": "execute_result",
          "data": {
            "text/plain": [
              "neighbourhood_group               1.000000\n",
              "reviews_per_month                 0.374339\n",
              "last_review                       0.374339\n",
              "name                              0.000694\n",
              "availability_365                  0.000000\n",
              "calculated_host_listings_count    0.000000\n",
              "number_of_reviews                 0.000000\n",
              "minimum_nights                    0.000000\n",
              "price                             0.000000\n",
              "room_type                         0.000000\n",
              "longitude                         0.000000\n",
              "latitude                          0.000000\n",
              "neighbourhood                     0.000000\n",
              "host_name                         0.000000\n",
              "host_id                           0.000000\n",
              "id                                0.000000\n",
              "dtype: float64"
            ]
          },
          "metadata": {
            "tags": []
          },
          "execution_count": 7
        }
      ]
    },
    {
      "cell_type": "markdown",
      "metadata": {
        "id": "iHXvvHIxaoNc",
        "colab_type": "text"
      },
      "source": [
        "### **Q3. Qual o tipo de distribuição das variáveis?** \n",
        "Iremos verificar como está a distribuição das variáveis numéricas plotando um histograma."
      ]
    },
    {
      "cell_type": "code",
      "metadata": {
        "id": "q2wWSfeRbmBo",
        "colab_type": "code",
        "colab": {
          "base_uri": "https://localhost:8080/",
          "height": 607
        },
        "outputId": "cb228247-e74f-4701-ecae-90f5c85c3a02"
      },
      "source": [
        "# plotar o histograma das variáveis numéricas\n",
        "df.hist(bins=15, figsize=(15,10));"
      ],
      "execution_count": null,
      "outputs": [
        {
          "output_type": "display_data",
          "data": {
            "image/png": "[encoded data removed]",
            "text/plain": [
              "<Figure size 1080x720 with 12 Axes>"
            ]
          },
          "metadata": {
            "tags": [],
            "needs_background": "light"
          }
        }
      ]
    },
    {
      "cell_type": "markdown",
      "metadata": {
        "id": "7x4aw1j5wNmn",
        "colab_type": "text"
      },
      "source": [
        "### **Q4. Qual a média dos preços de aluguel?**\n",
        "Podemos perceber pelos histogramas plotados que existem indícios de *outliers*.\n",
        "Veja por exemplo, a variável **minimum_nights**: existem imóveis com a necessidade de reserva de no mínimo 1000 dias, o que corresponde a quase 3 anos.\n",
        "\n",
        "Veja ainda que alguns gráficos como **price**, **reviews_per_month**, **number_of_reviews** também distorcem o gráfico, não seguindo uma distribuição \"comum\".\n",
        "\n",
        "* Para estudarmos os *outliers* iremos verificar o resumo estatístico e *plotar* um gráfico do tipo boxplot das variáveis numéricas."
      ]
    },
    {
      "cell_type": "code",
      "metadata": {
        "id": "214tELT54OUS",
        "colab_type": "code",
        "colab": {
          "base_uri": "https://localhost:8080/",
          "height": 284
        },
        "outputId": "0751c327-bcb7-4d4d-c458-8c0ce51385de"
      },
      "source": [
        "# Ver o resumo estatístico das variáveis numéricas\n",
        "df[['availability_365', 'calculated_host_listings_count', 'minimum_nights', 'number_of_reviews', 'price']].describe()"
      ],
      "execution_count": null,
      "outputs": [
        {
          "output_type": "execute_result",
          "data": {
            "text/html": [
              "<div>\n",
              "<style scoped>\n",
              "    .dataframe tbody tr th:only-of-type {\n",
              "        vertical-align: middle;\n",
              "    }\n",
              "\n",
              "    .dataframe tbody tr th {\n",
              "        vertical-align: top;\n",
              "    }\n",
              "\n",
              "    .dataframe thead th {\n",
              "        text-align: right;\n",
              "    }\n",
              "</style>\n",
              "<table border=\"1\" class=\"dataframe\">\n",
              "  <thead>\n",
              "    <tr style=\"text-align: right;\">\n",
              "      <th></th>\n",
              "      <th>availability_365</th>\n",
              "      <th>calculated_host_listings_count</th>\n",
              "      <th>minimum_nights</th>\n",
              "      <th>number_of_reviews</th>\n",
              "      <th>price</th>\n",
              "    </tr>\n",
              "  </thead>\n",
              "  <tbody>\n",
              "    <tr>\n",
              "      <th>count</th>\n",
              "      <td>11535.000000</td>\n",
              "      <td>11535.000000</td>\n",
              "      <td>11535.000000</td>\n",
              "      <td>11535.000000</td>\n",
              "      <td>11535.000000</td>\n",
              "    </tr>\n",
              "    <tr>\n",
              "      <th>mean</th>\n",
              "      <td>172.731253</td>\n",
              "      <td>44.745644</td>\n",
              "      <td>9.456003</td>\n",
              "      <td>17.735154</td>\n",
              "      <td>769.382315</td>\n",
              "    </tr>\n",
              "    <tr>\n",
              "      <th>std</th>\n",
              "      <td>156.453435</td>\n",
              "      <td>102.228143</td>\n",
              "      <td>27.858655</td>\n",
              "      <td>41.086132</td>\n",
              "      <td>2407.634235</td>\n",
              "    </tr>\n",
              "    <tr>\n",
              "      <th>min</th>\n",
              "      <td>0.000000</td>\n",
              "      <td>1.000000</td>\n",
              "      <td>1.000000</td>\n",
              "      <td>0.000000</td>\n",
              "      <td>0.000000</td>\n",
              "    </tr>\n",
              "    <tr>\n",
              "      <th>25%</th>\n",
              "      <td>0.000000</td>\n",
              "      <td>1.000000</td>\n",
              "      <td>1.000000</td>\n",
              "      <td>0.000000</td>\n",
              "      <td>295.000000</td>\n",
              "    </tr>\n",
              "    <tr>\n",
              "      <th>50%</th>\n",
              "      <td>141.000000</td>\n",
              "      <td>4.000000</td>\n",
              "      <td>2.000000</td>\n",
              "      <td>2.000000</td>\n",
              "      <td>465.000000</td>\n",
              "    </tr>\n",
              "    <tr>\n",
              "      <th>75%</th>\n",
              "      <td>364.000000</td>\n",
              "      <td>18.000000</td>\n",
              "      <td>7.000000</td>\n",
              "      <td>14.000000</td>\n",
              "      <td>798.000000</td>\n",
              "    </tr>\n",
              "    <tr>\n",
              "      <th>max</th>\n",
              "      <td>365.000000</td>\n",
              "      <td>390.000000</td>\n",
              "      <td>1100.000000</td>\n",
              "      <td>736.000000</td>\n",
              "      <td>78001.000000</td>\n",
              "    </tr>\n",
              "  </tbody>\n",
              "</table>\n",
              "</div>"
            ],
            "text/plain": [
              "       availability_365  ...         price\n",
              "count      11535.000000  ...  11535.000000\n",
              "mean         172.731253  ...    769.382315\n",
              "std          156.453435  ...   2407.634235\n",
              "min            0.000000  ...      0.000000\n",
              "25%            0.000000  ...    295.000000\n",
              "50%          141.000000  ...    465.000000\n",
              "75%          364.000000  ...    798.000000\n",
              "max          365.000000  ...  78001.000000\n",
              "\n",
              "[8 rows x 5 columns]"
            ]
          },
          "metadata": {
            "tags": []
          },
          "execution_count": 9
        }
      ]
    },
    {
      "cell_type": "markdown",
      "metadata": {
        "id": "_wGcCXdcMn4X",
        "colab_type": "text"
      },
      "source": [
        "Olhando o resumo estatístico acima, podemos confirmar algumas hipóteses como:\n",
        "\n",
        "* A quantidade mínima de noite (`minimum_nights`) está muito acima de um número normal, chegando a 1100 dias (aprox 3 anos);\n",
        "* O preço possui um valor médio de 748, com 75% dos imóveis até 800. Porém seu valor máximo chega a 77,998;\n",
        "* O número de imóveis do mesmo dono chega a 390, bem acima dos 18 que representam 75% em nosso *dataset*.\n",
        "\n",
        "Estes números excessivamente fora do comum representam `outliers` e devem ser retirados da nossa análise para não distorcer os dados estudados.\n",
        "\n",
        "### Boxplot para *minimum_nights*"
      ]
    },
    {
      "cell_type": "code",
      "metadata": {
        "id": "cxh2aL8z4PaN",
        "colab_type": "code",
        "colab": {
          "base_uri": "https://localhost:8080/",
          "height": 262
        },
        "outputId": "fb22cebc-5dfd-42de-fa18-9b6a584f4615"
      },
      "source": [
        "# minimum_nights\n",
        "df.minimum_nights.plot(kind = 'box', vert = False, figsize = (15, 3));\n",
        "plt.show()\n",
        "\n",
        "# ver quantidade de valores acima de 30 dias\n",
        "print(\"minimum_nights com valores acima de 30 dias:\")\n",
        "print(\"{} entradas\".format(len(df[df.minimum_nights > 30])))\n",
        "print(\"{:.4f}%\".format((len(df[df.minimum_nights > 30]) / df.shape[0]) * 100))"
      ],
      "execution_count": null,
      "outputs": [
        {
          "output_type": "display_data",
          "data": {
            "image/png": "[encoded data removed]",
            "text/plain": [
              "<Figure size 1080x216 with 1 Axes>"
            ]
          },
          "metadata": {
            "tags": [],
            "needs_background": "light"
          }
        },
        {
          "output_type": "stream",
          "text": [
            "minimum_nights com valores acima de 30 dias:\n",
            "284 entradas\n",
            "2.4621%\n"
          ],
          "name": "stdout"
        }
      ]
    },
    {
      "cell_type": "markdown",
      "metadata": {
        "id": "zzz76P5xNWGw",
        "colab_type": "text"
      },
      "source": [
        "### Boxplot para *price*"
      ]
    },
    {
      "cell_type": "code",
      "metadata": {
        "id": "rWkWai9p4Pjk",
        "colab_type": "code",
        "colab": {
          "base_uri": "https://localhost:8080/",
          "height": 262
        },
        "outputId": "f689330e-1a6c-4e7b-9551-96fafa68b045"
      },
      "source": [
        "# price\n",
        "df.price.plot(kind = 'box', vert = False, figsize = (15, 3));\n",
        "plt.show()\n",
        "\n",
        "# ver quantidade de valores acima de 2000\n",
        "print(\"price com valores acima de 2000:\")\n",
        "print(\"{} entradas\".format(len(df[df.price > 2000])))\n",
        "print(\"{:.4f}%\".format((len(df[df.price > 2000]) / df.shape[0]) * 100))"
      ],
      "execution_count": null,
      "outputs": [
        {
          "output_type": "display_data",
          "data": {
            "image/png": "[encoded data removed]",
            "text/plain": [
              "<Figure size 1080x216 with 1 Axes>"
            ]
          },
          "metadata": {
            "tags": [],
            "needs_background": "light"
          }
        },
        {
          "output_type": "stream",
          "text": [
            "price com valores acima de 2000:\n",
            "353 entradas\n",
            "3.0603%\n"
          ],
          "name": "stdout"
        }
      ]
    },
    {
      "cell_type": "markdown",
      "metadata": {
        "id": "tmMQPqIUW0-K",
        "colab_type": "text"
      },
      "source": [
        "###Boxplot para *calculated_host_listings_count*"
      ]
    },
    {
      "cell_type": "code",
      "metadata": {
        "id": "TEILWyRxXHeQ",
        "colab_type": "code",
        "colab": {
          "base_uri": "https://localhost:8080/",
          "height": 262
        },
        "outputId": "872e5ad9-e40a-4d53-a3e0-50da3e97eaac"
      },
      "source": [
        "# calculated_host_listings_count\n",
        "df.calculated_host_listings_count.plot(kind = 'box', vert = False, figsize = (15,3));\n",
        "plt.show()\n",
        "\n",
        "# Ver quantidade de valores acima de 100\n",
        "print(\"calculated_host_listings_count acima de 100:\")\n",
        "print(\"{} entradas\".format(len(df[df.calculated_host_listings_count > 100])))\n",
        "print(\"{:.4f}%\".format((len(df[df.calculated_host_listings_count > 100]) / df.shape[0]) * 100))"
      ],
      "execution_count": null,
      "outputs": [
        {
          "output_type": "display_data",
          "data": {
            "image/png": "[encoded data removed]",
            "text/plain": [
              "<Figure size 1080x216 with 1 Axes>"
            ]
          },
          "metadata": {
            "tags": [],
            "needs_background": "light"
          }
        },
        {
          "output_type": "stream",
          "text": [
            "calculated_host_listings_count acima de 100:\n",
            "1416 entradas\n",
            "12.2757%\n"
          ],
          "name": "stdout"
        }
      ]
    },
    {
      "cell_type": "markdown",
      "metadata": {
        "id": "C72reQUfZJk5",
        "colab_type": "text"
      },
      "source": [
        "### Histogramas sem outliers\n",
        "Uma vez identificados *outliers*, vamos limpar nossa *DataFrame*, retirando os dados que não nos interessa, e plotar novo histograma. "
      ]
    },
    {
      "cell_type": "code",
      "metadata": {
        "id": "c0t4e6eVZsGp",
        "colab_type": "code",
        "colab": {
          "base_uri": "https://localhost:8080/",
          "height": 607
        },
        "outputId": "0cd6734a-c8c1-44cf-a522-c696d049ef2a"
      },
      "source": [
        "# Remover os *outliers* em um novo *DataFrame*\n",
        "df_clean = df.copy()\n",
        "df_clean.drop(df_clean[df_clean.price > 2000].index, axis = 0, inplace = True)\n",
        "df_clean.drop(df_clean[df_clean.minimum_nights > 30].index, axis = 0, inplace = True)\n",
        "df_clean.drop(df_clean[df_clean.calculated_host_listings_count > 100].index, axis = 0, inplace = True)\n",
        "\n",
        "# Remover `neighbourhood_group`pois está vazio\n",
        "\n",
        "\n",
        "# Plotar os histogramas das variáveis numéricas\n",
        "df_clean.hist(bins = 15, figsize = (15,10));"
      ],
      "execution_count": null,
      "outputs": [
        {
          "output_type": "display_data",
          "data": {
            "image/png": "[encoded data removed]",
            "text/plain": [
              "<Figure size 1080x720 with 12 Axes>"
            ]
          },
          "metadata": {
            "tags": [],
            "needs_background": "light"
          }
        }
      ]
    },
    {
      "cell_type": "markdown",
      "metadata": {
        "id": "cZOC-Ade8vNI",
        "colab_type": "text"
      },
      "source": [
        "Podemos ver nos gráficos colocados lado a lado, como limpar os outliers deixando apenas os dados que fazem sentido, faz diferença na análise dos mesmos.\n",
        "\n",
        "\n",
        "<center><img src=\"https://github.com/Rodrigo-O-Santos/Images/blob/master/Projeto%20Airbnb_Hong%20Kong_compara%C3%A7%C3%A3o%20entre%20graficos.png?raw=true\"></center>\n",
        "\n"
      ]
    },
    {
      "cell_type": "markdown",
      "metadata": {
        "id": "IXn2oIo5qx-w",
        "colab_type": "text"
      },
      "source": [
        "### **Q4. Qual a correlação existente entre as variáveis**\n",
        "Vamos verificar quais dados possuem correlação, ou seja, ver se temos 2 variáveis com comportamentos relacionados entre si.\n",
        "Para isso vamos:\n",
        "* Criar uma matriz de correlação;\n",
        "* Criar um *heatmap*, usando a biblioteca `seaborn`."
      ]
    },
    {
      "cell_type": "code",
      "metadata": {
        "id": "x2ayzBajqxyd",
        "colab_type": "code",
        "colab": {
          "base_uri": "https://localhost:8080/",
          "height": 225
        },
        "outputId": "10947b00-9e69-4aa0-b72f-54503103f824"
      },
      "source": [
        "# criar uma matriz de correlação\n",
        "corr = df_clean[['price', 'minimum_nights', 'number_of_reviews', 'reviews_per_month', 'calculated_host_listings_count', 'availability_365']].corr()\n",
        "\n",
        "display(corr)\n",
        "\n",
        "# mostrar a matriz de correlação\n"
      ],
      "execution_count": null,
      "outputs": [
        {
          "output_type": "display_data",
          "data": {
            "text/html": [
              "<div>\n",
              "<style scoped>\n",
              "    .dataframe tbody tr th:only-of-type {\n",
              "        vertical-align: middle;\n",
              "    }\n",
              "\n",
              "    .dataframe tbody tr th {\n",
              "        vertical-align: top;\n",
              "    }\n",
              "\n",
              "    .dataframe thead th {\n",
              "        text-align: right;\n",
              "    }\n",
              "</style>\n",
              "<table border=\"1\" class=\"dataframe\">\n",
              "  <thead>\n",
              "    <tr style=\"text-align: right;\">\n",
              "      <th></th>\n",
              "      <th>price</th>\n",
              "      <th>minimum_nights</th>\n",
              "      <th>number_of_reviews</th>\n",
              "      <th>reviews_per_month</th>\n",
              "      <th>calculated_host_listings_count</th>\n",
              "      <th>availability_365</th>\n",
              "    </tr>\n",
              "  </thead>\n",
              "  <tbody>\n",
              "    <tr>\n",
              "      <th>price</th>\n",
              "      <td>1.000000</td>\n",
              "      <td>-0.065638</td>\n",
              "      <td>0.008932</td>\n",
              "      <td>-0.015237</td>\n",
              "      <td>-0.174369</td>\n",
              "      <td>-0.095783</td>\n",
              "    </tr>\n",
              "    <tr>\n",
              "      <th>minimum_nights</th>\n",
              "      <td>-0.065638</td>\n",
              "      <td>1.000000</td>\n",
              "      <td>-0.095087</td>\n",
              "      <td>-0.093764</td>\n",
              "      <td>0.248642</td>\n",
              "      <td>0.180861</td>\n",
              "    </tr>\n",
              "    <tr>\n",
              "      <th>number_of_reviews</th>\n",
              "      <td>0.008932</td>\n",
              "      <td>-0.095087</td>\n",
              "      <td>1.000000</td>\n",
              "      <td>0.818996</td>\n",
              "      <td>0.017749</td>\n",
              "      <td>0.084604</td>\n",
              "    </tr>\n",
              "    <tr>\n",
              "      <th>reviews_per_month</th>\n",
              "      <td>-0.015237</td>\n",
              "      <td>-0.093764</td>\n",
              "      <td>0.818996</td>\n",
              "      <td>1.000000</td>\n",
              "      <td>0.019452</td>\n",
              "      <td>0.073150</td>\n",
              "    </tr>\n",
              "    <tr>\n",
              "      <th>calculated_host_listings_count</th>\n",
              "      <td>-0.174369</td>\n",
              "      <td>0.248642</td>\n",
              "      <td>0.017749</td>\n",
              "      <td>0.019452</td>\n",
              "      <td>1.000000</td>\n",
              "      <td>0.361375</td>\n",
              "    </tr>\n",
              "    <tr>\n",
              "      <th>availability_365</th>\n",
              "      <td>-0.095783</td>\n",
              "      <td>0.180861</td>\n",
              "      <td>0.084604</td>\n",
              "      <td>0.073150</td>\n",
              "      <td>0.361375</td>\n",
              "      <td>1.000000</td>\n",
              "    </tr>\n",
              "  </tbody>\n",
              "</table>\n",
              "</div>"
            ],
            "text/plain": [
              "                                   price  ...  availability_365\n",
              "price                           1.000000  ...         -0.095783\n",
              "minimum_nights                 -0.065638  ...          0.180861\n",
              "number_of_reviews               0.008932  ...          0.084604\n",
              "reviews_per_month              -0.015237  ...          0.073150\n",
              "calculated_host_listings_count -0.174369  ...          0.361375\n",
              "availability_365               -0.095783  ...          1.000000\n",
              "\n",
              "[6 rows x 6 columns]"
            ]
          },
          "metadata": {
            "tags": []
          }
        }
      ]
    },
    {
      "cell_type": "code",
      "metadata": {
        "id": "91UujDr6ueqE",
        "colab_type": "code",
        "colab": {
          "base_uri": "https://localhost:8080/",
          "height": 411
        },
        "outputId": "e5522cb8-176c-44d2-b2f8-5370ac0945f6"
      },
      "source": [
        "# plotar um heatmap a partir das correlações\n",
        "sns.heatmap(corr, cmap = 'RdBu', fmt = '.2f', square = True, linecolor = 'White', annot = True);"
      ],
      "execution_count": null,
      "outputs": [
        {
          "output_type": "display_data",
          "data": {
            "image/png": "[encoded data removed]",
            "text/plain": [
              "<Figure size 432x288 with 2 Axes>"
            ]
          },
          "metadata": {
            "tags": [],
            "needs_background": "light"
          }
        }
      ]
    },
    {
      "cell_type": "markdown",
      "metadata": {
        "id": "nx9eF0ZBIaiV",
        "colab_type": "text"
      },
      "source": [
        "Podemos ver com o *heatmap* que a maior correlação existente é número de reviews com reviews por mês.\n",
        "Esta é uma relação até óbvia já que, quanto maior o número de reviews por mês, maior será o número dos mesmos."
      ]
    },
    {
      "cell_type": "markdown",
      "metadata": {
        "id": "7b6RMWpuHKN-",
        "colab_type": "text"
      },
      "source": [
        "### **Q5. Qual o tipo de imóvel mais alugado no Airbnb?**\n",
        "Vamos verificar qual tipo de imóvel é mais alugado pelo Airbnb em Hong Kong: apartamento inteiro, quarto inteiro, casa dividida..."
      ]
    },
    {
      "cell_type": "code",
      "metadata": {
        "id": "ueLPNWvPHgfB",
        "colab_type": "code",
        "colab": {
          "base_uri": "https://localhost:8080/",
          "height": 101
        },
        "outputId": "28adffa5-f70f-4423-b4ea-28ab6197f2ed"
      },
      "source": [
        "# mostrar a quantidade de cada tipo de imóvel disponível\n",
        "df_clean.room_type.value_counts()"
      ],
      "execution_count": null,
      "outputs": [
        {
          "output_type": "execute_result",
          "data": {
            "text/plain": [
              "Entire home/apt    4540\n",
              "Private room       4351\n",
              "Shared room         475\n",
              "Hotel room          249\n",
              "Name: room_type, dtype: int64"
            ]
          },
          "metadata": {
            "tags": []
          },
          "execution_count": 16
        }
      ]
    },
    {
      "cell_type": "code",
      "metadata": {
        "id": "EvwoO-XAHhIm",
        "colab_type": "code",
        "colab": {
          "base_uri": "https://localhost:8080/",
          "height": 101
        },
        "outputId": "584f5c22-1646-4353-b7db-b01e5156a700"
      },
      "source": [
        "# mostrar a porcentagem de cada tipo de imóvel disponível\n",
        "df_clean.room_type.value_counts() / df_clean.shape[0]"
      ],
      "execution_count": null,
      "outputs": [
        {
          "output_type": "execute_result",
          "data": {
            "text/plain": [
              "Entire home/apt    0.472179\n",
              "Private room       0.452522\n",
              "Shared room        0.049402\n",
              "Hotel room         0.025897\n",
              "Name: room_type, dtype: float64"
            ]
          },
          "metadata": {
            "tags": []
          },
          "execution_count": 17
        }
      ]
    },
    {
      "cell_type": "markdown",
      "metadata": {
        "id": "MFa5NbnLJMcd",
        "colab_type": "text"
      },
      "source": [
        "Podemos ver que o imóvel inteiro e quarto privado representam mais de 90% dos imóveis disponíveis em Hong Kong.\n",
        "\n",
        "### **Q6. Qual a localidade mais cara do dataset?**\n",
        "\n"
      ]
    },
    {
      "cell_type": "code",
      "metadata": {
        "id": "MD_xa143JZpi",
        "colab_type": "code",
        "colab": {
          "base_uri": "https://localhost:8080/",
          "height": 218
        },
        "outputId": "2feff2c3-f74e-41ba-f722-f4eaf1eee224"
      },
      "source": [
        "# ver preços por bairros, na média\n",
        "df_clean.groupby(['neighbourhood']).price.mean().sort_values(ascending = False)[:10]"
      ],
      "execution_count": null,
      "outputs": [
        {
          "output_type": "execute_result",
          "data": {
            "text/plain": [
              "neighbourhood\n",
              "Southern             811.289157\n",
              "Central & Western    739.624145\n",
              "Kwai Tsing           723.648649\n",
              "Islands              715.889145\n",
              "Tsuen Wan            653.980769\n",
              "Wan Chai             644.390742\n",
              "Wong Tai Sin         603.000000\n",
              "Kowloon City         594.479876\n",
              "Eastern              594.242038\n",
              "Sai Kung             587.881119\n",
              "Name: price, dtype: float64"
            ]
          },
          "metadata": {
            "tags": []
          },
          "execution_count": 18
        }
      ]
    },
    {
      "cell_type": "markdown",
      "metadata": {
        "id": "LrFMDbumaoZo",
        "colab_type": "text"
      },
      "source": [
        "Podemos verificar acima que Kowloon City, um dos bairros mais populosos, baratos e perigosos possui os mais caros imóvies para aluguel no Airbnb.\n",
        "\n",
        "Vamos analisar quantas entradas temos para este bairro."
      ]
    },
    {
      "cell_type": "code",
      "metadata": {
        "id": "19eXD2NAZ5Sn",
        "colab_type": "code",
        "colab": {
          "base_uri": "https://localhost:8080/",
          "height": 370
        },
        "outputId": "33525017-1692-4d8c-d29c-a130d42bcf70"
      },
      "source": [
        "print(df[df.neighbourhood == 'Kowloon City'].shape)\n",
        "df[df.neighbourhood == 'Kowloon City']\n",
        "\n",
        "print('Média de listagens por Bairro:', df_clean.neighbourhood.value_counts().mean())\n",
        "df_clean.neighbourhood.value_counts()"
      ],
      "execution_count": null,
      "outputs": [
        {
          "output_type": "stream",
          "text": [
            "(461, 16)\n",
            "Média de listagens por Bairro: 534.1666666666666\n"
          ],
          "name": "stdout"
        },
        {
          "output_type": "execute_result",
          "data": {
            "text/plain": [
              "Yau Tsim Mong        3823\n",
              "Central & Western    2046\n",
              "Wan Chai             1469\n",
              "Islands               433\n",
              "Kowloon City          323\n",
              "Eastern               314\n",
              "Sham Shui Po          214\n",
              "Yuen Long             208\n",
              "North                 159\n",
              "Sai Kung              143\n",
              "Sha Tin               118\n",
              "Southern               83\n",
              "Kwun Tong              64\n",
              "Tuen Mun               54\n",
              "Tsuen Wan              52\n",
              "Tai Po                 51\n",
              "Kwai Tsing             37\n",
              "Wong Tai Sin           24\n",
              "Name: neighbourhood, dtype: int64"
            ]
          },
          "metadata": {
            "tags": []
          },
          "execution_count": 19
        }
      ]
    },
    {
      "cell_type": "code",
      "metadata": {
        "id": "UxVJqJ_3W59I",
        "colab_type": "code",
        "colab": {
          "base_uri": "https://localhost:8080/",
          "height": 476
        },
        "outputId": "ab3c47c0-d457-45bb-d6f0-de2adc5d5f3d"
      },
      "source": [
        "# plotar os imóveis pela latitude-longitude\n",
        "df_clean.plot(kind = \"scatter\", x = 'longitude', y = 'latitude', alpha = 10, c = df_clean['price'], s = 8, cmap = plt.get_cmap('jet'), figsize = (12, 8));"
      ],
      "execution_count": null,
      "outputs": [
        {
          "output_type": "display_data",
          "data": {
            "image/png": "[encoded data removed]",
            "text/plain": [
              "<Figure size 864x576 with 2 Axes>"
            ]
          },
          "metadata": {
            "tags": [],
            "needs_background": "light"
          }
        }
      ]
    },
    {
      "cell_type": "markdown",
      "metadata": {
        "id": "vTneAMRUYvr1",
        "colab_type": "text"
      },
      "source": [
        "### **Q7. Qual é a média do mínimo de noites para aluguel (minimum_nights)?**"
      ]
    },
    {
      "cell_type": "code",
      "metadata": {
        "id": "_VzNhrEgY82N",
        "colab_type": "code",
        "colab": {
          "base_uri": "https://localhost:8080/",
          "height": 353
        },
        "outputId": "c9a797b0-9b88-4dc1-c884-415fa300181e"
      },
      "source": [
        "# ver a média da coluna `minimum_nights``\n",
        "df_clean.groupby(['neighbourhood']).minimum_nights.mean().sort_values(ascending = False)"
      ],
      "execution_count": null,
      "outputs": [
        {
          "output_type": "execute_result",
          "data": {
            "text/plain": [
              "neighbourhood\n",
              "Wan Chai             6.959837\n",
              "Eastern              6.764331\n",
              "Wong Tai Sin         6.375000\n",
              "Kwai Tsing           6.351351\n",
              "Tuen Mun             6.296296\n",
              "Sham Shui Po         5.303738\n",
              "Tsuen Wan            5.192308\n",
              "Sha Tin              5.033898\n",
              "Kwun Tong            4.875000\n",
              "Islands              4.833718\n",
              "Kowloon City         4.637771\n",
              "Central & Western    4.557674\n",
              "Yau Tsim Mong        3.874183\n",
              "Sai Kung             3.874126\n",
              "Southern             3.554217\n",
              "Tai Po               3.313725\n",
              "Yuen Long            2.870192\n",
              "North                1.861635\n",
              "Name: minimum_nights, dtype: float64"
            ]
          },
          "metadata": {
            "tags": []
          },
          "execution_count": 21
        }
      ]
    },
    {
      "cell_type": "markdown",
      "metadata": {
        "id": "GkvAg623RjoR",
        "colab_type": "text"
      },
      "source": [
        "## Conclusões\n"
      ]
    },
    {
      "cell_type": "markdown",
      "metadata": {
        "id": "sWyeWCpiaFsL",
        "colab_type": "text"
      },
      "source": [
        "Após breve análise, podemos ver que existem muitos *outliers* no conjunto de dados, o que pode alterar significativamente nossos estudos.\n",
        "Podemos notar que Hong Kong possui poucos imóveis disponíveis e que, os mesmos estão concentrados em uma determinada região (principalmente em 3 bairros), onde também estão os mais caros e exigem menor número de noites mínimas para reserva."
      ]
    }
  ]
}