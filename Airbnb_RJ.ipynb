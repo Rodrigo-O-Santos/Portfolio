{
  "nbformat": 4,
  "nbformat_minor": 0,
  "metadata": {
    "colab": {
      "name": "Airbnb RJ.ipynb",
      "provenance": [],
      "collapsed_sections": [],
      "authorship_tag": "ABX9TyNh5lEIeeO4W8NSciMv/ScA",
      "include_colab_link": true
    },
    "kernelspec": {
      "name": "python3",
      "display_name": "Python 3"
    }
  },
  "cells": [
    {
      "cell_type": "markdown",
      "metadata": {
        "id": "view-in-github",
        "colab_type": "text"
      },
      "source": [
        "<a href=\"https://colab.research.google.com/github/Rodrigo-O-Santos/Portfolio/blob/master/Airbnb_RJ.ipynb\" target=\"_parent\"><img src=\"https://colab.research.google.com/assets/colab-badge.svg\" alt=\"Open In Colab\"/></a>"
      ]
    },
    {
      "cell_type": "markdown",
      "metadata": {
        "id": "ThN5iHP1rK7T"
      },
      "source": [
        "# Análise dos dados do Airbnb - Rio de Janeiro\n",
        "\n",
        "O [Airbnb](https://www.airbnb.com.br/) já é considerado como sendo a **maior empresa hoteleira da atualidade**. O detalhe é que ele **não possui nenhum hotel**!\n",
        "\n",
        "Conectando pessoas que querem viajar (e se hospedar) com anfitriões que querem alugar seus imóveis de maneira prática, o Airbnb fornece uma plataforma inovadora para tornar essa hospedagem alternativa.\n",
        "\n",
        "No final de 2018, a Startup fundada 10 anos atrás, já havia **hospedado mais de 300 milhões** de pessoas ao redor de todo o mundo, desafiando as redes hoteleiras tradicionais.\n",
        "\n",
        "Uma das iniciativas do Airbnb é disponibilizar dados do site, para algumas das principais cidades do mundo. Por meio do portal [Inside Airbnb](http://insideairbnb.com/get-the-data.html), é possível baixar uma grande quantidade de dados para desenvolver projetos e soluções de *Data Science*.\n",
        "\n",
        "<center><img alt=\"Analisando Airbnb\" width=\"20%\" src=\"https://www.area360.com.au/wp-content/uploads/2017/09/airbnb-logo.jpg\"></center>\n",
        "\n",
        "O Rio de Janeiro é a cidade que mais recebe turista no Brasil, possui aproximadamente 6.6 milhões de habitantes (dados de 2015) e recebeu em 2016, aproxidamente, 6.5 milhoes de turistas.\n",
        "\n",
        "Os turistas são atraídos por inúmeras atrações: Carnaval, tradicional festa de *Réveillon* em Copacabana, estátua do Cristo Redentor, museus históricos e, entre tantas outras, um clima sempre quente aliado às belas praias.\n",
        "\n",
        "Ao viajar para o Rio de Janeiro, uma das coisas mais importantes é a localização da hospedagem para que fique o mais próximo possível das atrações turísticas e, ao mesmo tempo, em um local seguro.\n",
        "\n",
        "<center><img src=\"https://bit.ly/2Bp1u3r\", width = \"300\"></center>\n",
        "\n",
        "**Neste *notebook*, iremos analisar os dados do Airbnb, referente à cidade do Rio de Janeiro, e verificar o preço médio da diária de um imóvel por região ou bairro, buscando entender se há correlação entre áreas nobres e preços altos.**\n",
        "\n"
      ]
    },
    {
      "cell_type": "markdown",
      "metadata": {
        "id": "GKBWvVA5tO5Q"
      },
      "source": [
        "## Obtenção dos dados\n",
        "\n",
        "Todos os dados obtidos para esta análise foram obtidos do site [Inside Airbnb](http://insideairbnb.com/get-the-data.html).\n",
        "\n",
        "Para esta análise, foi extraído um arquivo do site citado:\n",
        "* `listings.csv` - *Summary information and metrics for listings in Hong Kong (good for visualisations).*"
      ]
    },
    {
      "cell_type": "code",
      "metadata": {
        "id": "Il-cIgHxrJ33"
      },
      "source": [
        "# Importando os pacotes necessários\n",
        "import pandas as pd\n",
        "import matplotlib.pyplot as plt\n",
        "import seaborn as sns\n",
        "import numpy as np\n",
        "import scipy as sp\n",
        "import scipy.stats\n",
        "\n",
        "\n",
        "%matplotlib inline"
      ],
      "execution_count": 32,
      "outputs": []
    },
    {
      "cell_type": "code",
      "metadata": {
        "id": "NC_NUHG2vunM"
      },
      "source": [
        "# Importando o arquivo listings.csv para um dataframe\n",
        "df = pd.read_csv(\"https://raw.githubusercontent.com/Rodrigo-O-Santos/Arquivos/master/listings%20(1).csv\")"
      ],
      "execution_count": 33,
      "outputs": []
    },
    {
      "cell_type": "markdown",
      "metadata": {
        "id": "xpxXUx-m2B67"
      },
      "source": [
        "## Análise inicial dos dados\n",
        "\n",
        "Analisando as 5 primeiras entradas do nosso dataset, podemos verificar quais são as variáveis existentes:\n",
        "\n",
        "**Dicionário das variáveis**\n",
        "\n",
        "* `id` - número gerado para identificar o imóvel\n",
        "* `name` - nome da propriedade anunciada\n",
        "* `host_id` - número que identifica o proprietário do imóvel\n",
        "* `host_name` - nome do proprietário\n",
        "* `neighbourhood_group` - coluna não possui nenhum valor válido\n",
        "* `neighbourhood` - nome do bairro\n",
        "* `latitude` - coordenada de latitude da propriedade\n",
        "* `longitude` - coordenada de longitude da propriedade\n",
        "* `room_type` - tipo de imóvel ofertado (quarto, apt inteiro, casa)\n",
        "*\t`price` - preço cobrado pela diária\n",
        "*\t`minimum_nights` - mínimo de noites necessárias para alugar o imóvel\n",
        "*\t`number_of_reviews` - números de análises que a propriedade possui\n",
        "*\t`last_review` - data da última análise feita\n",
        "*\t`reviews_per_month` - análises recebidas por mês\n",
        "*\t`calculated_host_listings_count` - número de imóveis do mesmo proprietário\n",
        "*\t`availability_365` - número de dias disponíveis (considerando 365 dias)\n",
        "\n",
        "Nossa base de dados possui 35793 linhas e 16 colunas de dados.\n",
        "\n"
      ]
    },
    {
      "cell_type": "code",
      "metadata": {
        "id": "eVUk8Utd5FOl",
        "colab": {
          "base_uri": "https://localhost:8080/",
          "height": 476
        },
        "outputId": "edc3d86a-4684-4a20-8f9f-a44434831612"
      },
      "source": [
        "# Verificando as primeiras 5 entradas do dataset\n",
        "df.head()"
      ],
      "execution_count": 34,
      "outputs": [
        {
          "output_type": "execute_result",
          "data": {
            "text/html": [
              "<div>\n",
              "<style scoped>\n",
              "    .dataframe tbody tr th:only-of-type {\n",
              "        vertical-align: middle;\n",
              "    }\n",
              "\n",
              "    .dataframe tbody tr th {\n",
              "        vertical-align: top;\n",
              "    }\n",
              "\n",
              "    .dataframe thead th {\n",
              "        text-align: right;\n",
              "    }\n",
              "</style>\n",
              "<table border=\"1\" class=\"dataframe\">\n",
              "  <thead>\n",
              "    <tr style=\"text-align: right;\">\n",
              "      <th></th>\n",
              "      <th>id</th>\n",
              "      <th>name</th>\n",
              "      <th>host_id</th>\n",
              "      <th>host_name</th>\n",
              "      <th>neighbourhood_group</th>\n",
              "      <th>neighbourhood</th>\n",
              "      <th>latitude</th>\n",
              "      <th>longitude</th>\n",
              "      <th>room_type</th>\n",
              "      <th>price</th>\n",
              "      <th>minimum_nights</th>\n",
              "      <th>number_of_reviews</th>\n",
              "      <th>last_review</th>\n",
              "      <th>reviews_per_month</th>\n",
              "      <th>calculated_host_listings_count</th>\n",
              "      <th>availability_365</th>\n",
              "    </tr>\n",
              "  </thead>\n",
              "  <tbody>\n",
              "    <tr>\n",
              "      <th>0</th>\n",
              "      <td>17878</td>\n",
              "      <td>Very Nice 2Br in Copacabana w. balcony, fast WiFi</td>\n",
              "      <td>68997</td>\n",
              "      <td>Matthias</td>\n",
              "      <td>NaN</td>\n",
              "      <td>Copacabana</td>\n",
              "      <td>-22.96592</td>\n",
              "      <td>-43.17896</td>\n",
              "      <td>Entire home/apt</td>\n",
              "      <td>188</td>\n",
              "      <td>7</td>\n",
              "      <td>251</td>\n",
              "      <td>2020-04-06</td>\n",
              "      <td>2.09</td>\n",
              "      <td>1</td>\n",
              "      <td>335</td>\n",
              "    </tr>\n",
              "    <tr>\n",
              "      <th>1</th>\n",
              "      <td>21280</td>\n",
              "      <td>Renovated Modern Apt. Near Beach</td>\n",
              "      <td>81163</td>\n",
              "      <td>Jules</td>\n",
              "      <td>NaN</td>\n",
              "      <td>Ipanema</td>\n",
              "      <td>-22.98467</td>\n",
              "      <td>-43.19611</td>\n",
              "      <td>Entire home/apt</td>\n",
              "      <td>442</td>\n",
              "      <td>5</td>\n",
              "      <td>94</td>\n",
              "      <td>2020-03-22</td>\n",
              "      <td>1.23</td>\n",
              "      <td>1</td>\n",
              "      <td>90</td>\n",
              "    </tr>\n",
              "    <tr>\n",
              "      <th>2</th>\n",
              "      <td>25026</td>\n",
              "      <td>Beautiful Modern Decorated Studio in Copa</td>\n",
              "      <td>102840</td>\n",
              "      <td>Viviane</td>\n",
              "      <td>NaN</td>\n",
              "      <td>Copacabana</td>\n",
              "      <td>-22.97712</td>\n",
              "      <td>-43.19045</td>\n",
              "      <td>Entire home/apt</td>\n",
              "      <td>160</td>\n",
              "      <td>7</td>\n",
              "      <td>238</td>\n",
              "      <td>2020-02-15</td>\n",
              "      <td>1.96</td>\n",
              "      <td>3</td>\n",
              "      <td>129</td>\n",
              "    </tr>\n",
              "    <tr>\n",
              "      <th>3</th>\n",
              "      <td>31560</td>\n",
              "      <td>NICE &amp; COZY 1BDR - IPANEMA BEACH</td>\n",
              "      <td>135635</td>\n",
              "      <td>Renata</td>\n",
              "      <td>NaN</td>\n",
              "      <td>Ipanema</td>\n",
              "      <td>-22.98302</td>\n",
              "      <td>-43.21427</td>\n",
              "      <td>Entire home/apt</td>\n",
              "      <td>359</td>\n",
              "      <td>2</td>\n",
              "      <td>282</td>\n",
              "      <td>2020-03-02</td>\n",
              "      <td>2.35</td>\n",
              "      <td>1</td>\n",
              "      <td>0</td>\n",
              "    </tr>\n",
              "    <tr>\n",
              "      <th>4</th>\n",
              "      <td>35636</td>\n",
              "      <td>Cosy flat close to Ipanema beach</td>\n",
              "      <td>153232</td>\n",
              "      <td>Patricia</td>\n",
              "      <td>NaN</td>\n",
              "      <td>Ipanema</td>\n",
              "      <td>-22.98816</td>\n",
              "      <td>-43.19359</td>\n",
              "      <td>Entire home/apt</td>\n",
              "      <td>495</td>\n",
              "      <td>2</td>\n",
              "      <td>181</td>\n",
              "      <td>2020-03-15</td>\n",
              "      <td>2.25</td>\n",
              "      <td>1</td>\n",
              "      <td>357</td>\n",
              "    </tr>\n",
              "  </tbody>\n",
              "</table>\n",
              "</div>"
            ],
            "text/plain": [
              "      id  ... availability_365\n",
              "0  17878  ...              335\n",
              "1  21280  ...               90\n",
              "2  25026  ...              129\n",
              "3  31560  ...                0\n",
              "4  35636  ...              357\n",
              "\n",
              "[5 rows x 16 columns]"
            ]
          },
          "metadata": {
            "tags": []
          },
          "execution_count": 34
        }
      ]
    },
    {
      "cell_type": "code",
      "metadata": {
        "id": "WUXaMDj-CiN_",
        "colab": {
          "base_uri": "https://localhost:8080/"
        },
        "outputId": "fa849ddc-05d0-41a8-be28-ffe366841f94"
      },
      "source": [
        "# Verificando o número de entradas e de variáveis\n",
        "print(\"Entradas:\\t {}\".format(df.shape[0]))\n",
        "print(\"Variáveis:\\t {}\\n\".format(df.shape[1]))"
      ],
      "execution_count": 35,
      "outputs": [
        {
          "output_type": "stream",
          "text": [
            "Entradas:\t 35793\n",
            "Variáveis:\t 16\n",
            "\n"
          ],
          "name": "stdout"
        }
      ]
    },
    {
      "cell_type": "markdown",
      "metadata": {
        "id": "73HSweOyGnsa"
      },
      "source": [
        "## Analisando os bairros\n",
        "\n",
        "Podemos verificar que existem 155 bairros oferecendo algum tipo de hospedagem pelo Airbnb que variam entre:\n",
        "\n",
        "*   Casa/apt completo\n",
        "*   Quarto privado\n",
        "*   Quarto compartilhado\n",
        "*   Quarto de hotel\n"
      ]
    },
    {
      "cell_type": "code",
      "metadata": {
        "id": "akqHMRzm7G-S",
        "colab": {
          "base_uri": "https://localhost:8080/"
        },
        "outputId": "112903af-6e6b-42d9-f730-05f1b1d427ef"
      },
      "source": [
        "# Mostrar os bairros com imóveis para alugar no Airbnb\n",
        "df.neighbourhood.unique()"
      ],
      "execution_count": 36,
      "outputs": [
        {
          "output_type": "execute_result",
          "data": {
            "text/plain": [
              "array(['Copacabana', 'Ipanema', 'Barra da Tijuca', 'Flamengo',\n",
              "       'Santa Teresa', 'Centro', 'Gávea', 'Leblon', 'Campo Grande',\n",
              "       'Laranjeiras', 'Humaitá', 'Botafogo', 'Santo Cristo', 'Glória',\n",
              "       'São Conrado', 'Itanhangá', 'São Cristóvão', 'Lagoa', 'Maracanã',\n",
              "       'Tijuca', 'São Francisco Xavier', 'Catete', 'Jacarepaguá',\n",
              "       'Vidigal', 'Marechal Hermes', 'Jardim Botânico',\n",
              "       'Recreio dos Bandeirantes', 'Senador Camará', 'Irajá',\n",
              "       'Vargem Grande', 'Leme', 'Vila da Penha', 'Anil', 'Vargem Pequena',\n",
              "       'Estácio', 'Praça Seca', 'Grajaú', 'Cosme Velho', 'Gardênia Azul',\n",
              "       'Taquara', 'Bangu', 'Urca', 'Joá', 'Alto da Boa Vista',\n",
              "       'Penha Circular', 'Jardim Sulacap', 'Praça da Bandeira',\n",
              "       'Encantado', 'Rio Comprido', 'Lins de Vasconcelos', 'Cosmos',\n",
              "       'Santíssimo', 'Gamboa', 'Bonsucesso', 'Camorim', 'Piedade',\n",
              "       'Olaria', 'Vila Valqueire', 'Cidade de Deus', 'Riachuelo',\n",
              "       'Barra de Guaratiba', 'Padre Miguel', 'Méier', 'Andaraí',\n",
              "       'Cidade Nova', 'Vila Isabel', 'Del Castilho', 'Tauá', 'Curicica',\n",
              "       'Rocinha', 'Engenho Novo', 'Engenho de Dentro', 'Santa Cruz',\n",
              "       'Inhoaíba', 'Guaratiba', 'Maria da Graça', 'Jardim Carioca',\n",
              "       'Freguesia (Jacarepaguá)', 'Mangueira', 'Cachambi',\n",
              "       'Pedra de Guaratiba', 'Portuguesa', 'Campinho', 'Água Santa',\n",
              "       'Cavalcanti', 'Freguesia (Ilha)', 'Higienópolis', 'Bento Ribeiro',\n",
              "       'Todos os Santos', 'Paciência', 'Praia da Bandeira', 'Cordovil',\n",
              "       'Rocha Miranda', 'Jardim Guanabara', 'Vaz Lobo', 'Barros Filho',\n",
              "       'Engenho da Rainha', 'Tanque', 'Benfica', 'Osvaldo Cruz',\n",
              "       'Vicente de Carvalho', 'Penha', 'Catumbi', 'Saúde', 'Pilares',\n",
              "       'Rocha', 'Ricardo de Albuquerque', 'Cacuia', 'Sampaio',\n",
              "       'Parada de Lucas', 'Pechincha', 'Quintino Bocaiúva', 'Jacaré',\n",
              "       'Pavuna', 'Brás de Pina', 'Grumari', 'Galeão', 'Magalhães Bastos',\n",
              "       'Madureira', 'Realengo', 'Bancários', 'Inhaúma', 'Colégio',\n",
              "       'Parque Anchieta', 'Gericinó', 'Abolição', 'Anchieta',\n",
              "       'Vila Militar', 'Ramos', 'Senador Vasconcelos', 'Deodoro',\n",
              "       'Moneró', 'Pitangueiras', 'Paquetá', 'Cocotá', 'Guadalupe',\n",
              "       'Tomás Coelho', 'Cascadura', 'Campo dos Afonsos', 'Vasco da Gama',\n",
              "       'Ribeira', 'Sepetiba', 'Complexo do Alemão', 'Engenheiro Leal',\n",
              "       'Vigário Geral', 'Jardim América', 'Vista Alegre', 'Manguinhos',\n",
              "       'Vila Kosmos', 'Honório Gurgel', 'Coelho Neto', 'Caju',\n",
              "       'Parque Colúmbia', 'Maré', 'Cidade Universitária'], dtype=object)"
            ]
          },
          "metadata": {
            "tags": []
          },
          "execution_count": 36
        }
      ]
    },
    {
      "cell_type": "code",
      "metadata": {
        "id": "48softNj3hnr",
        "colab": {
          "base_uri": "https://localhost:8080/"
        },
        "outputId": "fd7db746-fe2b-4015-a6af-170a9fa6556f"
      },
      "source": [
        "# Verificando quantos bairros existem imóveis para alugar\n",
        "df.neighbourhood.describe()"
      ],
      "execution_count": 37,
      "outputs": [
        {
          "output_type": "execute_result",
          "data": {
            "text/plain": [
              "count          35793\n",
              "unique           155\n",
              "top       Copacabana\n",
              "freq            9342\n",
              "Name: neighbourhood, dtype: object"
            ]
          },
          "metadata": {
            "tags": []
          },
          "execution_count": 37
        }
      ]
    },
    {
      "cell_type": "code",
      "metadata": {
        "id": "-bqYWOoL7pQm",
        "colab": {
          "base_uri": "https://localhost:8080/"
        },
        "outputId": "d5680c0e-7183-45af-aa34-74a45215a822"
      },
      "source": [
        "# Mostrando os tipos de imóveis à disposição\n",
        "df['room_type'].unique()"
      ],
      "execution_count": 38,
      "outputs": [
        {
          "output_type": "execute_result",
          "data": {
            "text/plain": [
              "array(['Entire home/apt', 'Private room', 'Shared room', 'Hotel room'],\n",
              "      dtype=object)"
            ]
          },
          "metadata": {
            "tags": []
          },
          "execution_count": 38
        }
      ]
    },
    {
      "cell_type": "code",
      "metadata": {
        "id": "S30bucfAD7jl",
        "colab": {
          "base_uri": "https://localhost:8080/",
          "height": 306
        },
        "outputId": "af75fdc5-0787-4e36-f45c-27a0f1bbfdbf"
      },
      "source": [
        "# Verificando os tipos de dados presente no dataset\n",
        "display(df.dtypes)"
      ],
      "execution_count": 39,
      "outputs": [
        {
          "output_type": "display_data",
          "data": {
            "text/plain": [
              "id                                  int64\n",
              "name                               object\n",
              "host_id                             int64\n",
              "host_name                          object\n",
              "neighbourhood_group               float64\n",
              "neighbourhood                      object\n",
              "latitude                          float64\n",
              "longitude                         float64\n",
              "room_type                          object\n",
              "price                               int64\n",
              "minimum_nights                      int64\n",
              "number_of_reviews                   int64\n",
              "last_review                        object\n",
              "reviews_per_month                 float64\n",
              "calculated_host_listings_count      int64\n",
              "availability_365                    int64\n",
              "dtype: object"
            ]
          },
          "metadata": {
            "tags": []
          }
        }
      ]
    },
    {
      "cell_type": "markdown",
      "metadata": {
        "id": "kcg-WHmQ0In4"
      },
      "source": [
        "## Dados ausentes\n",
        "\n",
        "Podemos verificar que temos alguns dados ausentes em nosso dataset:\n",
        "\n",
        "- **neighbourhood_group** - possui 100% de dados faltantes;\n",
        "- **reviews_per_month** e **last_review** - possui 41,6% de dados faltantes;\n",
        "- **name** e **host_name** - possuem menos de 1% de dados faltantes.\n",
        "\n",
        "Nenhuma destas colunas irá impactar na minha análise exploratória, visto que minha análise está focada em buscar o preço médio por bairro, com foco em verificar a correlação entre bairros nobres e alto valor da diária.\n",
        "\n",
        "Sendo assim, excluirei as colunas `neighbourhood`, `reviews_per_month`e `last_review`."
      ]
    },
    {
      "cell_type": "code",
      "metadata": {
        "id": "27hju6a0pNbI",
        "colab": {
          "base_uri": "https://localhost:8080/"
        },
        "outputId": "ec8b682f-a634-44d6-ffb9-251b71c6d5dc"
      },
      "source": [
        "(df.isnull().sum()/df.shape[0]).sort_values(ascending=False)"
      ],
      "execution_count": 40,
      "outputs": [
        {
          "output_type": "execute_result",
          "data": {
            "text/plain": [
              "neighbourhood_group               1.00000\n",
              "reviews_per_month                 0.41645\n",
              "last_review                       0.41645\n",
              "name                              0.00162\n",
              "host_name                         0.00014\n",
              "availability_365                  0.00000\n",
              "calculated_host_listings_count    0.00000\n",
              "number_of_reviews                 0.00000\n",
              "minimum_nights                    0.00000\n",
              "price                             0.00000\n",
              "room_type                         0.00000\n",
              "longitude                         0.00000\n",
              "latitude                          0.00000\n",
              "neighbourhood                     0.00000\n",
              "host_id                           0.00000\n",
              "id                                0.00000\n",
              "dtype: float64"
            ]
          },
          "metadata": {
            "tags": []
          },
          "execution_count": 40
        }
      ]
    },
    {
      "cell_type": "code",
      "metadata": {
        "id": "ocGGk0Hp28AS",
        "colab": {
          "base_uri": "https://localhost:8080/",
          "height": 204
        },
        "outputId": "834038f5-9ae1-4802-a4da-c33b5749549c"
      },
      "source": [
        "# Removendo as colunas neighbourhood_group, reviews_per_month e last_review\n",
        "df.drop(columns=['neighbourhood_group', 'reviews_per_month', 'last_review'], inplace=True,)\n",
        "\n",
        "# Verificando se as colunas foram excluídas\n",
        "df.head()"
      ],
      "execution_count": 41,
      "outputs": [
        {
          "output_type": "execute_result",
          "data": {
            "text/html": [
              "<div>\n",
              "<style scoped>\n",
              "    .dataframe tbody tr th:only-of-type {\n",
              "        vertical-align: middle;\n",
              "    }\n",
              "\n",
              "    .dataframe tbody tr th {\n",
              "        vertical-align: top;\n",
              "    }\n",
              "\n",
              "    .dataframe thead th {\n",
              "        text-align: right;\n",
              "    }\n",
              "</style>\n",
              "<table border=\"1\" class=\"dataframe\">\n",
              "  <thead>\n",
              "    <tr style=\"text-align: right;\">\n",
              "      <th></th>\n",
              "      <th>id</th>\n",
              "      <th>name</th>\n",
              "      <th>host_id</th>\n",
              "      <th>host_name</th>\n",
              "      <th>neighbourhood</th>\n",
              "      <th>latitude</th>\n",
              "      <th>longitude</th>\n",
              "      <th>room_type</th>\n",
              "      <th>price</th>\n",
              "      <th>minimum_nights</th>\n",
              "      <th>number_of_reviews</th>\n",
              "      <th>calculated_host_listings_count</th>\n",
              "      <th>availability_365</th>\n",
              "    </tr>\n",
              "  </thead>\n",
              "  <tbody>\n",
              "    <tr>\n",
              "      <th>0</th>\n",
              "      <td>17878</td>\n",
              "      <td>Very Nice 2Br in Copacabana w. balcony, fast WiFi</td>\n",
              "      <td>68997</td>\n",
              "      <td>Matthias</td>\n",
              "      <td>Copacabana</td>\n",
              "      <td>-22.96592</td>\n",
              "      <td>-43.17896</td>\n",
              "      <td>Entire home/apt</td>\n",
              "      <td>188</td>\n",
              "      <td>7</td>\n",
              "      <td>251</td>\n",
              "      <td>1</td>\n",
              "      <td>335</td>\n",
              "    </tr>\n",
              "    <tr>\n",
              "      <th>1</th>\n",
              "      <td>21280</td>\n",
              "      <td>Renovated Modern Apt. Near Beach</td>\n",
              "      <td>81163</td>\n",
              "      <td>Jules</td>\n",
              "      <td>Ipanema</td>\n",
              "      <td>-22.98467</td>\n",
              "      <td>-43.19611</td>\n",
              "      <td>Entire home/apt</td>\n",
              "      <td>442</td>\n",
              "      <td>5</td>\n",
              "      <td>94</td>\n",
              "      <td>1</td>\n",
              "      <td>90</td>\n",
              "    </tr>\n",
              "    <tr>\n",
              "      <th>2</th>\n",
              "      <td>25026</td>\n",
              "      <td>Beautiful Modern Decorated Studio in Copa</td>\n",
              "      <td>102840</td>\n",
              "      <td>Viviane</td>\n",
              "      <td>Copacabana</td>\n",
              "      <td>-22.97712</td>\n",
              "      <td>-43.19045</td>\n",
              "      <td>Entire home/apt</td>\n",
              "      <td>160</td>\n",
              "      <td>7</td>\n",
              "      <td>238</td>\n",
              "      <td>3</td>\n",
              "      <td>129</td>\n",
              "    </tr>\n",
              "    <tr>\n",
              "      <th>3</th>\n",
              "      <td>31560</td>\n",
              "      <td>NICE &amp; COZY 1BDR - IPANEMA BEACH</td>\n",
              "      <td>135635</td>\n",
              "      <td>Renata</td>\n",
              "      <td>Ipanema</td>\n",
              "      <td>-22.98302</td>\n",
              "      <td>-43.21427</td>\n",
              "      <td>Entire home/apt</td>\n",
              "      <td>359</td>\n",
              "      <td>2</td>\n",
              "      <td>282</td>\n",
              "      <td>1</td>\n",
              "      <td>0</td>\n",
              "    </tr>\n",
              "    <tr>\n",
              "      <th>4</th>\n",
              "      <td>35636</td>\n",
              "      <td>Cosy flat close to Ipanema beach</td>\n",
              "      <td>153232</td>\n",
              "      <td>Patricia</td>\n",
              "      <td>Ipanema</td>\n",
              "      <td>-22.98816</td>\n",
              "      <td>-43.19359</td>\n",
              "      <td>Entire home/apt</td>\n",
              "      <td>495</td>\n",
              "      <td>2</td>\n",
              "      <td>181</td>\n",
              "      <td>1</td>\n",
              "      <td>357</td>\n",
              "    </tr>\n",
              "  </tbody>\n",
              "</table>\n",
              "</div>"
            ],
            "text/plain": [
              "      id  ... availability_365\n",
              "0  17878  ...              335\n",
              "1  21280  ...               90\n",
              "2  25026  ...              129\n",
              "3  31560  ...                0\n",
              "4  35636  ...              357\n",
              "\n",
              "[5 rows x 13 columns]"
            ]
          },
          "metadata": {
            "tags": []
          },
          "execution_count": 41
        }
      ]
    },
    {
      "cell_type": "code",
      "metadata": {
        "id": "zObGgKS5itt9",
        "colab": {
          "base_uri": "https://localhost:8080/"
        },
        "outputId": "8494f3c7-86ed-44e5-8c59-fd132711a7c8"
      },
      "source": [
        "# Verificando dataset com a exclusão das colunas com dados ausentes\n",
        "(df.isnull().sum()/df.shape[0]).sort_values(ascending=False)"
      ],
      "execution_count": 42,
      "outputs": [
        {
          "output_type": "execute_result",
          "data": {
            "text/plain": [
              "name                              0.00162\n",
              "host_name                         0.00014\n",
              "availability_365                  0.00000\n",
              "calculated_host_listings_count    0.00000\n",
              "number_of_reviews                 0.00000\n",
              "minimum_nights                    0.00000\n",
              "price                             0.00000\n",
              "room_type                         0.00000\n",
              "longitude                         0.00000\n",
              "latitude                          0.00000\n",
              "neighbourhood                     0.00000\n",
              "host_id                           0.00000\n",
              "id                                0.00000\n",
              "dtype: float64"
            ]
          },
          "metadata": {
            "tags": []
          },
          "execution_count": 42
        }
      ]
    },
    {
      "cell_type": "markdown",
      "metadata": {
        "id": "mhDfFz6gjN5e"
      },
      "source": [
        "## Distribuição das variáveis\n",
        "\n",
        "Plotando alguns gráficos (histogramas e Boxplot) e o resumo estatístico das variáveis numéricas podemos verificar que existem *outliers* que podem comprometer nossa análise.\n",
        "\n",
        "Vamos analisar mais especificamente duas variáves abaixo:\n",
        "\n",
        "- **Price** - Possui uma média de preço por diária de R$ 796,00. Porém o valor máximo atribuído para uma diária chega a 138.2800,00 reais, o que é um valor elevadíssimo e certamente \"puxa\" nossos dados muito para cima.\n",
        "\n",
        "  Se considerarmos o valor de R$ 1500,00 viável como máximo de uma diária (lembrem que o Rio de Janeiro é uma cidade cara e possui locais realmente caros), vemos que os *outliers* (acima deste valor) correspondem a 9,5% dos dados (3415).\n",
        "\n",
        "- **Minimum_nights** - Enquanto média do mínimo exigido para reservar um imóvel é de aproximadamente 5 diárias, enquanto o máximo chega a 1123 dias. Isso corresponde a 3 anos e certamete não é um dado que devemos considerar em nossa análise.\n",
        "\n",
        "  Se considerarmos que 30 dias é um número de noites possível para uma pessoa alugar um Airbnb (férias por exemplo), vemos que os *outliers* correspondem a 0,6% dos dados (229).\n",
        "\n",
        "Ao plotar o Boxplot sequer conseguimos ver os quartis o que mostra a existência de muitos *outliers*."
      ]
    },
    {
      "cell_type": "code",
      "metadata": {
        "id": "5hVBwaHsjOWF",
        "colab": {
          "base_uri": "https://localhost:8080/",
          "height": 607
        },
        "outputId": "1af00643-3980-49e1-9a87-8100e1147296"
      },
      "source": [
        "# Plotando histogramas das variáveis numéricas\n",
        "df.hist(bins = 15, figsize  = (15, 10));"
      ],
      "execution_count": 43,
      "outputs": [
        {
          "output_type": "display_data",
          "data": {
            "image/png": "[encoded data removed]",
            "text/plain": [
              "<Figure size 1080x720 with 9 Axes>"
            ]
          },
          "metadata": {
            "tags": [],
            "needs_background": "light"
          }
        }
      ]
    },
    {
      "cell_type": "code",
      "metadata": {
        "id": "dONSrPikk3ZI",
        "colab": {
          "base_uri": "https://localhost:8080/",
          "height": 297
        },
        "outputId": "3b6eb8ab-0a44-4c84-a29e-78e76e8ed6b8"
      },
      "source": [
        "# Ver resumo estatístico das variáveis numéricas\n",
        "df[['price', 'minimum_nights', 'number_of_reviews', 'availability_365']].describe()"
      ],
      "execution_count": 44,
      "outputs": [
        {
          "output_type": "execute_result",
          "data": {
            "text/html": [
              "<div>\n",
              "<style scoped>\n",
              "    .dataframe tbody tr th:only-of-type {\n",
              "        vertical-align: middle;\n",
              "    }\n",
              "\n",
              "    .dataframe tbody tr th {\n",
              "        vertical-align: top;\n",
              "    }\n",
              "\n",
              "    .dataframe thead th {\n",
              "        text-align: right;\n",
              "    }\n",
              "</style>\n",
              "<table border=\"1\" class=\"dataframe\">\n",
              "  <thead>\n",
              "    <tr style=\"text-align: right;\">\n",
              "      <th></th>\n",
              "      <th>price</th>\n",
              "      <th>minimum_nights</th>\n",
              "      <th>number_of_reviews</th>\n",
              "      <th>availability_365</th>\n",
              "    </tr>\n",
              "  </thead>\n",
              "  <tbody>\n",
              "    <tr>\n",
              "      <th>count</th>\n",
              "      <td>35793.000000</td>\n",
              "      <td>35793.000000</td>\n",
              "      <td>35793.000000</td>\n",
              "      <td>35793.000000</td>\n",
              "    </tr>\n",
              "    <tr>\n",
              "      <th>mean</th>\n",
              "      <td>795.617858</td>\n",
              "      <td>4.797586</td>\n",
              "      <td>9.747576</td>\n",
              "      <td>171.900455</td>\n",
              "    </tr>\n",
              "    <tr>\n",
              "      <th>std</th>\n",
              "      <td>2452.937585</td>\n",
              "      <td>21.844137</td>\n",
              "      <td>25.828574</td>\n",
              "      <td>154.647434</td>\n",
              "    </tr>\n",
              "    <tr>\n",
              "      <th>min</th>\n",
              "      <td>0.000000</td>\n",
              "      <td>1.000000</td>\n",
              "      <td>0.000000</td>\n",
              "      <td>0.000000</td>\n",
              "    </tr>\n",
              "    <tr>\n",
              "      <th>25%</th>\n",
              "      <td>159.000000</td>\n",
              "      <td>1.000000</td>\n",
              "      <td>0.000000</td>\n",
              "      <td>0.000000</td>\n",
              "    </tr>\n",
              "    <tr>\n",
              "      <th>50%</th>\n",
              "      <td>299.000000</td>\n",
              "      <td>2.000000</td>\n",
              "      <td>1.000000</td>\n",
              "      <td>160.000000</td>\n",
              "    </tr>\n",
              "    <tr>\n",
              "      <th>75%</th>\n",
              "      <td>649.000000</td>\n",
              "      <td>4.000000</td>\n",
              "      <td>6.000000</td>\n",
              "      <td>362.000000</td>\n",
              "    </tr>\n",
              "    <tr>\n",
              "      <th>max</th>\n",
              "      <td>138288.000000</td>\n",
              "      <td>1123.000000</td>\n",
              "      <td>401.000000</td>\n",
              "      <td>365.000000</td>\n",
              "    </tr>\n",
              "  </tbody>\n",
              "</table>\n",
              "</div>"
            ],
            "text/plain": [
              "               price  minimum_nights  number_of_reviews  availability_365\n",
              "count   35793.000000    35793.000000       35793.000000      35793.000000\n",
              "mean      795.617858        4.797586           9.747576        171.900455\n",
              "std      2452.937585       21.844137          25.828574        154.647434\n",
              "min         0.000000        1.000000           0.000000          0.000000\n",
              "25%       159.000000        1.000000           0.000000          0.000000\n",
              "50%       299.000000        2.000000           1.000000        160.000000\n",
              "75%       649.000000        4.000000           6.000000        362.000000\n",
              "max    138288.000000     1123.000000         401.000000        365.000000"
            ]
          },
          "metadata": {
            "tags": []
          },
          "execution_count": 44
        }
      ]
    },
    {
      "cell_type": "code",
      "metadata": {
        "id": "H-MAjkxgm_ci",
        "colab": {
          "base_uri": "https://localhost:8080/",
          "height": 262
        },
        "outputId": "f93f81f6-5605-49c4-f567-8d072dcbc621"
      },
      "source": [
        "# Bloxplot para price\n",
        "df.price.plot(kind = 'box', vert = False, figsize = (15, 3))\n",
        "plt.show()\n",
        "\n",
        "# Ver valores acima de 3000\n",
        "print(\"Valores acima de R$ 1500,00:\\n{}\".format(len(df[df.price > 1500])))\n",
        "print(\"{:.4f}%\".format((len(df[df.price > 1500]) / df.shape[0]) * 100))"
      ],
      "execution_count": 45,
      "outputs": [
        {
          "output_type": "display_data",
          "data": {
            "image/png": "[encoded data removed]",
            "text/plain": [
              "<Figure size 1080x216 with 1 Axes>"
            ]
          },
          "metadata": {
            "tags": [],
            "needs_background": "light"
          }
        },
        {
          "output_type": "stream",
          "text": [
            "Valores acima de R$ 1500,00:\n",
            "3415\n",
            "9.5410%\n"
          ],
          "name": "stdout"
        }
      ]
    },
    {
      "cell_type": "code",
      "metadata": {
        "id": "3jVa6cgtn3yz",
        "colab": {
          "base_uri": "https://localhost:8080/",
          "height": 262
        },
        "outputId": "8527cfdb-dc82-4d75-93ce-88fdf0c680a8"
      },
      "source": [
        "# Boxplot para minimum_nights\n",
        "df.minimum_nights.plot(kind = 'box', vert = False, figsize = (15,3))\n",
        "plt.show()\n",
        "\n",
        "# Ver valores acima de 30\n",
        "print(\"Imóveis com número mínimo de reserva acima de 30 dias:\\n{}\".format(len(df[df.minimum_nights > 30])))\n",
        "print(\"{:.4f}%\".format((len(df[df.minimum_nights > 30]) / df.shape[0]) * 100))\n"
      ],
      "execution_count": 46,
      "outputs": [
        {
          "output_type": "display_data",
          "data": {
            "image/png": "[encoded data removed]",
            "text/plain": [
              "<Figure size 1080x216 with 1 Axes>"
            ]
          },
          "metadata": {
            "tags": [],
            "needs_background": "light"
          }
        },
        {
          "output_type": "stream",
          "text": [
            "Imóveis com número mínimo de reserva acima de 30 dias:\n",
            "229\n",
            "0.6398%\n"
          ],
          "name": "stdout"
        }
      ]
    },
    {
      "cell_type": "markdown",
      "metadata": {
        "id": "qt0fGTZQ5QFq"
      },
      "source": [
        "## Limpeza dos dados\n",
        "\n",
        "Uma vez identificados os *outliers*, podemos excluí-los para que tenhamos um dataset com menos viés no momento da análise.\n",
        "\n",
        "Então, com base nos gráficos e informações que vimos acima, excluíremos os imóveis com valor acima de R$ 1500,00 e com reserva mínima acima de 30 dias para reserva.\n",
        "\n"
      ]
    },
    {
      "cell_type": "code",
      "metadata": {
        "id": "ROhyblyX0BNR"
      },
      "source": [
        "# Excluindo os outliers criando uma cópia do dataset\n",
        "df_clean = df.copy()\n",
        "df_clean.drop(df_clean[df_clean.price > 1500].index, axis = 0, inplace = True)\n",
        "df_clean.drop(df_clean[df_clean.minimum_nights > 30].index, axis = 0, inplace = True)"
      ],
      "execution_count": 47,
      "outputs": []
    },
    {
      "cell_type": "code",
      "metadata": {
        "id": "9KNq3NxA43PI",
        "colab": {
          "base_uri": "https://localhost:8080/",
          "height": 607
        },
        "outputId": "cdf39dfc-a7d5-48a3-ba96-4ff20fd92c56"
      },
      "source": [
        "# Plotando histogramas das variáveis numéricas sem outliers\n",
        "df_clean.hist(bins = 15, figsize=(15, 10));"
      ],
      "execution_count": 48,
      "outputs": [
        {
          "output_type": "display_data",
          "data": {
            "image/png": "[encoded data removed]",
            "text/plain": [
              "<Figure size 1080x720 with 9 Axes>"
            ]
          },
          "metadata": {
            "tags": [],
            "needs_background": "light"
          }
        }
      ]
    },
    {
      "cell_type": "code",
      "metadata": {
        "id": "qyMho3m-7e68",
        "colab": {
          "base_uri": "https://localhost:8080/",
          "height": 297
        },
        "outputId": "9f2e686b-ad84-48d4-c08e-a0c1d630bc77"
      },
      "source": [
        "# Ver resumo estatístico das variáveis numéricas sem outliers\n",
        "df_clean.describe()"
      ],
      "execution_count": 49,
      "outputs": [
        {
          "output_type": "execute_result",
          "data": {
            "text/html": [
              "<div>\n",
              "<style scoped>\n",
              "    .dataframe tbody tr th:only-of-type {\n",
              "        vertical-align: middle;\n",
              "    }\n",
              "\n",
              "    .dataframe tbody tr th {\n",
              "        vertical-align: top;\n",
              "    }\n",
              "\n",
              "    .dataframe thead th {\n",
              "        text-align: right;\n",
              "    }\n",
              "</style>\n",
              "<table border=\"1\" class=\"dataframe\">\n",
              "  <thead>\n",
              "    <tr style=\"text-align: right;\">\n",
              "      <th></th>\n",
              "      <th>id</th>\n",
              "      <th>host_id</th>\n",
              "      <th>latitude</th>\n",
              "      <th>longitude</th>\n",
              "      <th>price</th>\n",
              "      <th>minimum_nights</th>\n",
              "      <th>number_of_reviews</th>\n",
              "      <th>calculated_host_listings_count</th>\n",
              "      <th>availability_365</th>\n",
              "    </tr>\n",
              "  </thead>\n",
              "  <tbody>\n",
              "    <tr>\n",
              "      <th>count</th>\n",
              "      <td>3.217400e+04</td>\n",
              "      <td>3.217400e+04</td>\n",
              "      <td>32174.000000</td>\n",
              "      <td>32174.000000</td>\n",
              "      <td>32174.000000</td>\n",
              "      <td>32174.000000</td>\n",
              "      <td>32174.000000</td>\n",
              "      <td>32174.000000</td>\n",
              "      <td>32174.000000</td>\n",
              "    </tr>\n",
              "    <tr>\n",
              "      <th>mean</th>\n",
              "      <td>2.167030e+07</td>\n",
              "      <td>8.642711e+07</td>\n",
              "      <td>-22.964112</td>\n",
              "      <td>-43.249220</td>\n",
              "      <td>377.880804</td>\n",
              "      <td>3.505501</td>\n",
              "      <td>10.662616</td>\n",
              "      <td>5.188537</td>\n",
              "      <td>170.763753</td>\n",
              "    </tr>\n",
              "    <tr>\n",
              "      <th>std</th>\n",
              "      <td>1.363408e+07</td>\n",
              "      <td>9.065372e+07</td>\n",
              "      <td>0.034985</td>\n",
              "      <td>0.096035</td>\n",
              "      <td>318.836462</td>\n",
              "      <td>4.147284</td>\n",
              "      <td>26.897794</td>\n",
              "      <td>17.148332</td>\n",
              "      <td>153.120806</td>\n",
              "    </tr>\n",
              "    <tr>\n",
              "      <th>min</th>\n",
              "      <td>1.787800e+04</td>\n",
              "      <td>1.173900e+04</td>\n",
              "      <td>-23.072970</td>\n",
              "      <td>-43.737090</td>\n",
              "      <td>0.000000</td>\n",
              "      <td>1.000000</td>\n",
              "      <td>0.000000</td>\n",
              "      <td>1.000000</td>\n",
              "      <td>0.000000</td>\n",
              "    </tr>\n",
              "    <tr>\n",
              "      <th>25%</th>\n",
              "      <td>1.123247e+07</td>\n",
              "      <td>1.511767e+07</td>\n",
              "      <td>-22.984050</td>\n",
              "      <td>-43.309000</td>\n",
              "      <td>149.000000</td>\n",
              "      <td>1.000000</td>\n",
              "      <td>0.000000</td>\n",
              "      <td>1.000000</td>\n",
              "      <td>0.000000</td>\n",
              "    </tr>\n",
              "    <tr>\n",
              "      <th>50%</th>\n",
              "      <td>1.850313e+07</td>\n",
              "      <td>5.663447e+07</td>\n",
              "      <td>-22.969840</td>\n",
              "      <td>-43.196305</td>\n",
              "      <td>260.000000</td>\n",
              "      <td>2.000000</td>\n",
              "      <td>1.000000</td>\n",
              "      <td>1.000000</td>\n",
              "      <td>157.000000</td>\n",
              "    </tr>\n",
              "    <tr>\n",
              "      <th>75%</th>\n",
              "      <td>3.469466e+07</td>\n",
              "      <td>1.150963e+08</td>\n",
              "      <td>-22.944182</td>\n",
              "      <td>-43.185950</td>\n",
              "      <td>498.000000</td>\n",
              "      <td>4.000000</td>\n",
              "      <td>7.000000</td>\n",
              "      <td>3.000000</td>\n",
              "      <td>362.000000</td>\n",
              "    </tr>\n",
              "    <tr>\n",
              "      <th>max</th>\n",
              "      <td>4.352478e+07</td>\n",
              "      <td>3.468845e+08</td>\n",
              "      <td>-22.750380</td>\n",
              "      <td>-43.104620</td>\n",
              "      <td>1500.000000</td>\n",
              "      <td>30.000000</td>\n",
              "      <td>401.000000</td>\n",
              "      <td>200.000000</td>\n",
              "      <td>365.000000</td>\n",
              "    </tr>\n",
              "  </tbody>\n",
              "</table>\n",
              "</div>"
            ],
            "text/plain": [
              "                 id  ...  availability_365\n",
              "count  3.217400e+04  ...      32174.000000\n",
              "mean   2.167030e+07  ...        170.763753\n",
              "std    1.363408e+07  ...        153.120806\n",
              "min    1.787800e+04  ...          0.000000\n",
              "25%    1.123247e+07  ...          0.000000\n",
              "50%    1.850313e+07  ...        157.000000\n",
              "75%    3.469466e+07  ...        362.000000\n",
              "max    4.352478e+07  ...        365.000000\n",
              "\n",
              "[8 rows x 9 columns]"
            ]
          },
          "metadata": {
            "tags": []
          },
          "execution_count": 49
        }
      ]
    },
    {
      "cell_type": "code",
      "metadata": {
        "id": "7BMaH7iM7qjG",
        "colab": {
          "base_uri": "https://localhost:8080/",
          "height": 211
        },
        "outputId": "d6c106cc-c39b-401f-a082-04a0f94ce072"
      },
      "source": [
        "# Boxplot para price sem outliers\n",
        "df_clean.price.plot(kind = 'box', vert = False, figsize = (15, 3))\n",
        "plt.show()"
      ],
      "execution_count": 50,
      "outputs": [
        {
          "output_type": "display_data",
          "data": {
            "image/png": "[encoded data removed]",
            "text/plain": [
              "<Figure size 1080x216 with 1 Axes>"
            ]
          },
          "metadata": {
            "tags": [],
            "needs_background": "light"
          }
        }
      ]
    },
    {
      "cell_type": "code",
      "metadata": {
        "id": "A0LlqvCv-I1j",
        "colab": {
          "base_uri": "https://localhost:8080/",
          "height": 211
        },
        "outputId": "bce0f123-fb63-4aea-cb2e-1a2dc56ed918"
      },
      "source": [
        "# Boxplot para minimum_nights sem outliers\n",
        "df_clean.minimum_nights.plot(kind = 'box', vert = False, figsize = (15, 3))\n",
        "plt.show()"
      ],
      "execution_count": 51,
      "outputs": [
        {
          "output_type": "display_data",
          "data": {
            "image/png": "[encoded data removed]",
            "text/plain": [
              "<Figure size 1080x216 with 1 Axes>"
            ]
          },
          "metadata": {
            "tags": [],
            "needs_background": "light"
          }
        }
      ]
    },
    {
      "cell_type": "markdown",
      "metadata": {
        "id": "x64MzoddGSir"
      },
      "source": [
        "## Correlação entre as variáveis\n",
        "\n",
        "Criando uma mapa de correlação e um *heatmap* podemos ver que não existe uma forte correlação entre nenhumas das variáveis numéricas."
      ]
    },
    {
      "cell_type": "code",
      "metadata": {
        "id": "CGBJ7wXpGSLi",
        "colab": {
          "base_uri": "https://localhost:8080/",
          "height": 328
        },
        "outputId": "33ccf3c3-fa9e-4670-b0ee-594c9798160f"
      },
      "source": [
        "corr = df_clean.corr()\n",
        "\n",
        "display(corr)"
      ],
      "execution_count": 52,
      "outputs": [
        {
          "output_type": "display_data",
          "data": {
            "text/html": [
              "<div>\n",
              "<style scoped>\n",
              "    .dataframe tbody tr th:only-of-type {\n",
              "        vertical-align: middle;\n",
              "    }\n",
              "\n",
              "    .dataframe tbody tr th {\n",
              "        vertical-align: top;\n",
              "    }\n",
              "\n",
              "    .dataframe thead th {\n",
              "        text-align: right;\n",
              "    }\n",
              "</style>\n",
              "<table border=\"1\" class=\"dataframe\">\n",
              "  <thead>\n",
              "    <tr style=\"text-align: right;\">\n",
              "      <th></th>\n",
              "      <th>id</th>\n",
              "      <th>host_id</th>\n",
              "      <th>latitude</th>\n",
              "      <th>longitude</th>\n",
              "      <th>price</th>\n",
              "      <th>minimum_nights</th>\n",
              "      <th>number_of_reviews</th>\n",
              "      <th>calculated_host_listings_count</th>\n",
              "      <th>availability_365</th>\n",
              "    </tr>\n",
              "  </thead>\n",
              "  <tbody>\n",
              "    <tr>\n",
              "      <th>id</th>\n",
              "      <td>1.000000</td>\n",
              "      <td>0.586476</td>\n",
              "      <td>-0.024949</td>\n",
              "      <td>-0.003120</td>\n",
              "      <td>-0.167133</td>\n",
              "      <td>-0.097352</td>\n",
              "      <td>-0.240970</td>\n",
              "      <td>0.069592</td>\n",
              "      <td>-0.018315</td>\n",
              "    </tr>\n",
              "    <tr>\n",
              "      <th>host_id</th>\n",
              "      <td>0.586476</td>\n",
              "      <td>1.000000</td>\n",
              "      <td>0.019660</td>\n",
              "      <td>-0.097342</td>\n",
              "      <td>-0.119051</td>\n",
              "      <td>-0.065343</td>\n",
              "      <td>-0.151604</td>\n",
              "      <td>-0.060145</td>\n",
              "      <td>-0.012624</td>\n",
              "    </tr>\n",
              "    <tr>\n",
              "      <th>latitude</th>\n",
              "      <td>-0.024949</td>\n",
              "      <td>0.019660</td>\n",
              "      <td>1.000000</td>\n",
              "      <td>0.342841</td>\n",
              "      <td>-0.173349</td>\n",
              "      <td>-0.045794</td>\n",
              "      <td>-0.065240</td>\n",
              "      <td>-0.072976</td>\n",
              "      <td>-0.004900</td>\n",
              "    </tr>\n",
              "    <tr>\n",
              "      <th>longitude</th>\n",
              "      <td>-0.003120</td>\n",
              "      <td>-0.097342</td>\n",
              "      <td>0.342841</td>\n",
              "      <td>1.000000</td>\n",
              "      <td>-0.113663</td>\n",
              "      <td>-0.046937</td>\n",
              "      <td>0.123419</td>\n",
              "      <td>0.082592</td>\n",
              "      <td>-0.034074</td>\n",
              "    </tr>\n",
              "    <tr>\n",
              "      <th>price</th>\n",
              "      <td>-0.167133</td>\n",
              "      <td>-0.119051</td>\n",
              "      <td>-0.173349</td>\n",
              "      <td>-0.113663</td>\n",
              "      <td>1.000000</td>\n",
              "      <td>0.150570</td>\n",
              "      <td>-0.161228</td>\n",
              "      <td>0.041941</td>\n",
              "      <td>-0.029684</td>\n",
              "    </tr>\n",
              "    <tr>\n",
              "      <th>minimum_nights</th>\n",
              "      <td>-0.097352</td>\n",
              "      <td>-0.065343</td>\n",
              "      <td>-0.045794</td>\n",
              "      <td>-0.046937</td>\n",
              "      <td>0.150570</td>\n",
              "      <td>1.000000</td>\n",
              "      <td>-0.050160</td>\n",
              "      <td>-0.030734</td>\n",
              "      <td>-0.022024</td>\n",
              "    </tr>\n",
              "    <tr>\n",
              "      <th>number_of_reviews</th>\n",
              "      <td>-0.240970</td>\n",
              "      <td>-0.151604</td>\n",
              "      <td>-0.065240</td>\n",
              "      <td>0.123419</td>\n",
              "      <td>-0.161228</td>\n",
              "      <td>-0.050160</td>\n",
              "      <td>1.000000</td>\n",
              "      <td>-0.024119</td>\n",
              "      <td>0.049502</td>\n",
              "    </tr>\n",
              "    <tr>\n",
              "      <th>calculated_host_listings_count</th>\n",
              "      <td>0.069592</td>\n",
              "      <td>-0.060145</td>\n",
              "      <td>-0.072976</td>\n",
              "      <td>0.082592</td>\n",
              "      <td>0.041941</td>\n",
              "      <td>-0.030734</td>\n",
              "      <td>-0.024119</td>\n",
              "      <td>1.000000</td>\n",
              "      <td>0.075923</td>\n",
              "    </tr>\n",
              "    <tr>\n",
              "      <th>availability_365</th>\n",
              "      <td>-0.018315</td>\n",
              "      <td>-0.012624</td>\n",
              "      <td>-0.004900</td>\n",
              "      <td>-0.034074</td>\n",
              "      <td>-0.029684</td>\n",
              "      <td>-0.022024</td>\n",
              "      <td>0.049502</td>\n",
              "      <td>0.075923</td>\n",
              "      <td>1.000000</td>\n",
              "    </tr>\n",
              "  </tbody>\n",
              "</table>\n",
              "</div>"
            ],
            "text/plain": [
              "                                      id  ...  availability_365\n",
              "id                              1.000000  ...         -0.018315\n",
              "host_id                         0.586476  ...         -0.012624\n",
              "latitude                       -0.024949  ...         -0.004900\n",
              "longitude                      -0.003120  ...         -0.034074\n",
              "price                          -0.167133  ...         -0.029684\n",
              "minimum_nights                 -0.097352  ...         -0.022024\n",
              "number_of_reviews              -0.240970  ...          0.049502\n",
              "calculated_host_listings_count  0.069592  ...          0.075923\n",
              "availability_365               -0.018315  ...          1.000000\n",
              "\n",
              "[9 rows x 9 columns]"
            ]
          },
          "metadata": {
            "tags": []
          }
        }
      ]
    },
    {
      "cell_type": "code",
      "metadata": {
        "id": "wUqQpeElGlHC",
        "colab": {
          "base_uri": "https://localhost:8080/",
          "height": 411
        },
        "outputId": "242da36f-bebb-40b5-a09c-7f48b5460369"
      },
      "source": [
        "sns.heatmap(corr, cmap = 'RdBu', center = True, annot = True, fmt = '.2f');"
      ],
      "execution_count": 53,
      "outputs": [
        {
          "output_type": "display_data",
          "data": {
            "image/png": "[encoded data removed]",
            "text/plain": [
              "<Figure size 432x288 with 2 Axes>"
            ]
          },
          "metadata": {
            "tags": [],
            "needs_background": "light"
          }
        }
      ]
    },
    {
      "cell_type": "markdown",
      "metadata": {
        "id": "2vRbT9tbNk48"
      },
      "source": [
        "## Quais os bairros mais caros?\n",
        "\n",
        "Vemos que o tipo de imóvel mais disponibilizado para reserva são casas ou apartamentos inteiros. Cerca de 70% do total.\n",
        "\n",
        "Mas o que realmente chama a atenção é que bairros como Vaz Lobo, Abolição e Caju, estão com média de preço superior a de lugares como Leblon, Barra da Tijuca e Lagoa.\n",
        "\n",
        "Uma pessoa que não conheça o Rio pode apresentar esses resultados sem se questionar.\n",
        "\n",
        "Porém, de acordo com o IDH no ano de 2000, Vaz Lobo ocupava a 83ª posição do ranking para os municípios do Rio de Janeiro com um índice de 0,807.\n",
        "Já o IDH do Leblon, era de 0,967.  O 2º melhor.\n",
        "\n",
        "Na prática, Vaz Lobo fica muito longe dos principais pontos turísticos da cidade, um bairro mais pobre, com muita influência do tráfico e pouca cobertura policial.\n",
        "Já o Leblon está muito próximo dos principais pontos da cidade, inclusive os turísticos, é banhado pelo mar possibilitando rápido acesso à praia, e é largamente policiado.\n",
        "\n",
        "Importante lembrar que toda a cidade do Rio de Janeiro sofre com a violência  e não existe bairro 100% seguro na cidade. Apenas uma probabilidade maior ou menor de ocorrências criminais. Bairros com mais atrações e turistas costumam receber maior atenção do policiamento e, consequentemente oferecer mais segurança."
      ]
    },
    {
      "cell_type": "code",
      "metadata": {
        "id": "Qv9MsHbBLzfu",
        "colab": {
          "base_uri": "https://localhost:8080/"
        },
        "outputId": "9d13b1a9-812d-4b86-b1c0-e8e6d89ad54a"
      },
      "source": [
        "# Ver qual o tipo de imóvel com maior disponibilidade\n",
        "df_clean.room_type.value_counts()"
      ],
      "execution_count": 54,
      "outputs": [
        {
          "output_type": "execute_result",
          "data": {
            "text/plain": [
              "Entire home/apt    22363\n",
              "Private room        8905\n",
              "Shared room          751\n",
              "Hotel room           155\n",
              "Name: room_type, dtype: int64"
            ]
          },
          "metadata": {
            "tags": []
          },
          "execution_count": 54
        }
      ]
    },
    {
      "cell_type": "code",
      "metadata": {
        "id": "Roqin7dS28Vf",
        "colab": {
          "base_uri": "https://localhost:8080/"
        },
        "outputId": "6fed0aa8-d4fc-47fd-b18e-820ab3e0c670"
      },
      "source": [
        "# Mostrar o percentual de cada tipo de imóvel\n",
        "df_clean.room_type.value_counts() / df_clean.shape[0]"
      ],
      "execution_count": 55,
      "outputs": [
        {
          "output_type": "execute_result",
          "data": {
            "text/plain": [
              "Entire home/apt    0.695064\n",
              "Private room       0.276776\n",
              "Shared room        0.023342\n",
              "Hotel room         0.004818\n",
              "Name: room_type, dtype: float64"
            ]
          },
          "metadata": {
            "tags": []
          },
          "execution_count": 55
        }
      ]
    },
    {
      "cell_type": "code",
      "metadata": {
        "id": "gapRQSKTR3fu",
        "colab": {
          "base_uri": "https://localhost:8080/"
        },
        "outputId": "db1f0240-9f04-43bb-d128-c187f1b9f6e5"
      },
      "source": [
        "# Ver os valores médios para os bairros\n",
        "df_clean.groupby(['neighbourhood']).price.mean().sort_values(ascending = False)"
      ],
      "execution_count": 56,
      "outputs": [
        {
          "output_type": "execute_result",
          "data": {
            "text/plain": [
              "neighbourhood\n",
              "Vaz Lobo                  884.333333\n",
              "Caju                      660.500000\n",
              "Ricardo de Albuquerque    610.600000\n",
              "Lagoa                     524.355828\n",
              "Abolição                  494.000000\n",
              "                             ...    \n",
              "Vista Alegre               70.000000\n",
              "Vila Militar               70.000000\n",
              "Honório Gurgel             65.000000\n",
              "Galeão                     65.000000\n",
              "Gericinó                   49.000000\n",
              "Name: price, Length: 155, dtype: float64"
            ]
          },
          "metadata": {
            "tags": []
          },
          "execution_count": 56
        }
      ]
    },
    {
      "cell_type": "code",
      "metadata": {
        "id": "XXhU1HLn3THy",
        "colab": {
          "base_uri": "https://localhost:8080/",
          "height": 452
        },
        "outputId": "8b2d1759-be36-4908-e502-2e37923fff0a"
      },
      "source": [
        "# Ver os 12 bairros com maior preço médio\n",
        "df_clean.groupby(['neighbourhood']).price.describe().sort_values(by = 'mean', ascending = False)[:12]"
      ],
      "execution_count": 57,
      "outputs": [
        {
          "output_type": "execute_result",
          "data": {
            "text/html": [
              "<div>\n",
              "<style scoped>\n",
              "    .dataframe tbody tr th:only-of-type {\n",
              "        vertical-align: middle;\n",
              "    }\n",
              "\n",
              "    .dataframe tbody tr th {\n",
              "        vertical-align: top;\n",
              "    }\n",
              "\n",
              "    .dataframe thead th {\n",
              "        text-align: right;\n",
              "    }\n",
              "</style>\n",
              "<table border=\"1\" class=\"dataframe\">\n",
              "  <thead>\n",
              "    <tr style=\"text-align: right;\">\n",
              "      <th></th>\n",
              "      <th>count</th>\n",
              "      <th>mean</th>\n",
              "      <th>std</th>\n",
              "      <th>min</th>\n",
              "      <th>25%</th>\n",
              "      <th>50%</th>\n",
              "      <th>75%</th>\n",
              "      <th>max</th>\n",
              "    </tr>\n",
              "    <tr>\n",
              "      <th>neighbourhood</th>\n",
              "      <th></th>\n",
              "      <th></th>\n",
              "      <th></th>\n",
              "      <th></th>\n",
              "      <th></th>\n",
              "      <th></th>\n",
              "      <th></th>\n",
              "      <th></th>\n",
              "    </tr>\n",
              "  </thead>\n",
              "  <tbody>\n",
              "    <tr>\n",
              "      <th>Vaz Lobo</th>\n",
              "      <td>3.0</td>\n",
              "      <td>884.333333</td>\n",
              "      <td>533.651884</td>\n",
              "      <td>302.0</td>\n",
              "      <td>651.50</td>\n",
              "      <td>1001.0</td>\n",
              "      <td>1175.50</td>\n",
              "      <td>1350.0</td>\n",
              "    </tr>\n",
              "    <tr>\n",
              "      <th>Caju</th>\n",
              "      <td>2.0</td>\n",
              "      <td>660.500000</td>\n",
              "      <td>761.554003</td>\n",
              "      <td>122.0</td>\n",
              "      <td>391.25</td>\n",
              "      <td>660.5</td>\n",
              "      <td>929.75</td>\n",
              "      <td>1199.0</td>\n",
              "    </tr>\n",
              "    <tr>\n",
              "      <th>Ricardo de Albuquerque</th>\n",
              "      <td>5.0</td>\n",
              "      <td>610.600000</td>\n",
              "      <td>421.726570</td>\n",
              "      <td>119.0</td>\n",
              "      <td>302.00</td>\n",
              "      <td>553.0</td>\n",
              "      <td>999.00</td>\n",
              "      <td>1080.0</td>\n",
              "    </tr>\n",
              "    <tr>\n",
              "      <th>Lagoa</th>\n",
              "      <td>326.0</td>\n",
              "      <td>524.355828</td>\n",
              "      <td>380.696999</td>\n",
              "      <td>49.0</td>\n",
              "      <td>216.50</td>\n",
              "      <td>399.5</td>\n",
              "      <td>801.25</td>\n",
              "      <td>1499.0</td>\n",
              "    </tr>\n",
              "    <tr>\n",
              "      <th>Abolição</th>\n",
              "      <td>6.0</td>\n",
              "      <td>494.000000</td>\n",
              "      <td>368.742729</td>\n",
              "      <td>137.0</td>\n",
              "      <td>199.25</td>\n",
              "      <td>399.5</td>\n",
              "      <td>772.25</td>\n",
              "      <td>999.0</td>\n",
              "    </tr>\n",
              "    <tr>\n",
              "      <th>Leblon</th>\n",
              "      <td>1393.0</td>\n",
              "      <td>493.765255</td>\n",
              "      <td>328.161955</td>\n",
              "      <td>50.0</td>\n",
              "      <td>249.00</td>\n",
              "      <td>398.0</td>\n",
              "      <td>608.00</td>\n",
              "      <td>1500.0</td>\n",
              "    </tr>\n",
              "    <tr>\n",
              "      <th>Alto da Boa Vista</th>\n",
              "      <td>40.0</td>\n",
              "      <td>488.525000</td>\n",
              "      <td>385.637600</td>\n",
              "      <td>33.0</td>\n",
              "      <td>167.00</td>\n",
              "      <td>368.0</td>\n",
              "      <td>724.00</td>\n",
              "      <td>1375.0</td>\n",
              "    </tr>\n",
              "    <tr>\n",
              "      <th>Inhoaíba</th>\n",
              "      <td>3.0</td>\n",
              "      <td>480.000000</td>\n",
              "      <td>537.471860</td>\n",
              "      <td>146.0</td>\n",
              "      <td>170.00</td>\n",
              "      <td>194.0</td>\n",
              "      <td>647.00</td>\n",
              "      <td>1100.0</td>\n",
              "    </tr>\n",
              "    <tr>\n",
              "      <th>Jacarepaguá</th>\n",
              "      <td>1796.0</td>\n",
              "      <td>477.753898</td>\n",
              "      <td>377.783332</td>\n",
              "      <td>0.0</td>\n",
              "      <td>160.00</td>\n",
              "      <td>348.0</td>\n",
              "      <td>719.25</td>\n",
              "      <td>1499.0</td>\n",
              "    </tr>\n",
              "    <tr>\n",
              "      <th>Anchieta</th>\n",
              "      <td>5.0</td>\n",
              "      <td>476.200000</td>\n",
              "      <td>311.174710</td>\n",
              "      <td>100.0</td>\n",
              "      <td>173.00</td>\n",
              "      <td>702.0</td>\n",
              "      <td>703.00</td>\n",
              "      <td>703.0</td>\n",
              "    </tr>\n",
              "    <tr>\n",
              "      <th>Deodoro</th>\n",
              "      <td>2.0</td>\n",
              "      <td>475.500000</td>\n",
              "      <td>391.030050</td>\n",
              "      <td>199.0</td>\n",
              "      <td>337.25</td>\n",
              "      <td>475.5</td>\n",
              "      <td>613.75</td>\n",
              "      <td>752.0</td>\n",
              "    </tr>\n",
              "    <tr>\n",
              "      <th>Barra da Tijuca</th>\n",
              "      <td>3255.0</td>\n",
              "      <td>473.356682</td>\n",
              "      <td>345.782358</td>\n",
              "      <td>43.0</td>\n",
              "      <td>203.00</td>\n",
              "      <td>352.0</td>\n",
              "      <td>653.00</td>\n",
              "      <td>1499.0</td>\n",
              "    </tr>\n",
              "  </tbody>\n",
              "</table>\n",
              "</div>"
            ],
            "text/plain": [
              "                         count        mean         std  ...     50%      75%     max\n",
              "neighbourhood                                           ...                         \n",
              "Vaz Lobo                   3.0  884.333333  533.651884  ...  1001.0  1175.50  1350.0\n",
              "Caju                       2.0  660.500000  761.554003  ...   660.5   929.75  1199.0\n",
              "Ricardo de Albuquerque     5.0  610.600000  421.726570  ...   553.0   999.00  1080.0\n",
              "Lagoa                    326.0  524.355828  380.696999  ...   399.5   801.25  1499.0\n",
              "Abolição                   6.0  494.000000  368.742729  ...   399.5   772.25   999.0\n",
              "Leblon                  1393.0  493.765255  328.161955  ...   398.0   608.00  1500.0\n",
              "Alto da Boa Vista         40.0  488.525000  385.637600  ...   368.0   724.00  1375.0\n",
              "Inhoaíba                   3.0  480.000000  537.471860  ...   194.0   647.00  1100.0\n",
              "Jacarepaguá             1796.0  477.753898  377.783332  ...   348.0   719.25  1499.0\n",
              "Anchieta                   5.0  476.200000  311.174710  ...   702.0   703.00   703.0\n",
              "Deodoro                    2.0  475.500000  391.030050  ...   475.5   613.75   752.0\n",
              "Barra da Tijuca         3255.0  473.356682  345.782358  ...   352.0   653.00  1499.0\n",
              "\n",
              "[12 rows x 8 columns]"
            ]
          },
          "metadata": {
            "tags": []
          },
          "execution_count": 57
        }
      ]
    },
    {
      "cell_type": "markdown",
      "metadata": {
        "id": "RkOl8iuhDU75"
      },
      "source": [
        "## Analisando a representatividade da amostra\n",
        "\n",
        "Para termos um exemplo de como uma amostra pode não ser representativa, veja que para Vaz Lobo temos apenas 3 entradas. Já para Leblon temos 1393.\n",
        "\n",
        "Ou seja, se tivermos uma entrada com dados destoante da realidade em um bairro com poucos imóveis, neste caso são apenas 3, já será o suficiente para realizarmos uma análise deficitária.\n",
        "\n",
        "Já com 1393, uma entrada com dados destoantes trará um efeito muito menor para a grande massa de dados. O efeito de um dado destoante é diluído pelos outros 1292 dados \"normais\"."
      ]
    },
    {
      "cell_type": "code",
      "metadata": {
        "id": "2GMC7p5wDURy",
        "colab": {
          "base_uri": "https://localhost:8080/",
          "height": 159
        },
        "outputId": "9d5de9fb-11c4-4ea6-8f82-e68eddc12f7f"
      },
      "source": [
        "# Ver quantidade de imóveis em Vaz Lobo\n",
        "print(df_clean.loc[df_clean.neighbourhood == \"Vaz Lobo\"].head().shape)\n",
        "\n",
        "# Verificar as 3 entradas para Vaz Lobo\n",
        "df_clean.loc[df_clean.neighbourhood == \"Vaz Lobo\"].head()"
      ],
      "execution_count": 58,
      "outputs": [
        {
          "output_type": "stream",
          "text": [
            "(3, 13)\n"
          ],
          "name": "stdout"
        },
        {
          "output_type": "execute_result",
          "data": {
            "text/html": [
              "<div>\n",
              "<style scoped>\n",
              "    .dataframe tbody tr th:only-of-type {\n",
              "        vertical-align: middle;\n",
              "    }\n",
              "\n",
              "    .dataframe tbody tr th {\n",
              "        vertical-align: top;\n",
              "    }\n",
              "\n",
              "    .dataframe thead th {\n",
              "        text-align: right;\n",
              "    }\n",
              "</style>\n",
              "<table border=\"1\" class=\"dataframe\">\n",
              "  <thead>\n",
              "    <tr style=\"text-align: right;\">\n",
              "      <th></th>\n",
              "      <th>id</th>\n",
              "      <th>name</th>\n",
              "      <th>host_id</th>\n",
              "      <th>host_name</th>\n",
              "      <th>neighbourhood</th>\n",
              "      <th>latitude</th>\n",
              "      <th>longitude</th>\n",
              "      <th>room_type</th>\n",
              "      <th>price</th>\n",
              "      <th>minimum_nights</th>\n",
              "      <th>number_of_reviews</th>\n",
              "      <th>calculated_host_listings_count</th>\n",
              "      <th>availability_365</th>\n",
              "    </tr>\n",
              "  </thead>\n",
              "  <tbody>\n",
              "    <tr>\n",
              "      <th>2909</th>\n",
              "      <td>2768499</td>\n",
              "      <td>Próximo ao Maracanã</td>\n",
              "      <td>14157867</td>\n",
              "      <td>Fernando</td>\n",
              "      <td>Vaz Lobo</td>\n",
              "      <td>-22.85955</td>\n",
              "      <td>-43.32918</td>\n",
              "      <td>Private room</td>\n",
              "      <td>1001</td>\n",
              "      <td>1</td>\n",
              "      <td>0</td>\n",
              "      <td>1</td>\n",
              "      <td>0</td>\n",
              "    </tr>\n",
              "    <tr>\n",
              "      <th>15766</th>\n",
              "      <td>14221134</td>\n",
              "      <td>casa  colonial  3  quartos, garagem</td>\n",
              "      <td>86402266</td>\n",
              "      <td>Lucia</td>\n",
              "      <td>Vaz Lobo</td>\n",
              "      <td>-22.85583</td>\n",
              "      <td>-43.32441</td>\n",
              "      <td>Entire home/apt</td>\n",
              "      <td>1350</td>\n",
              "      <td>15</td>\n",
              "      <td>0</td>\n",
              "      <td>1</td>\n",
              "      <td>365</td>\n",
              "    </tr>\n",
              "    <tr>\n",
              "      <th>33494</th>\n",
              "      <td>42012781</td>\n",
              "      <td>Casas flegler</td>\n",
              "      <td>332881900</td>\n",
              "      <td>Igor Flegler De Souza</td>\n",
              "      <td>Vaz Lobo</td>\n",
              "      <td>-22.86070</td>\n",
              "      <td>-43.32446</td>\n",
              "      <td>Private room</td>\n",
              "      <td>302</td>\n",
              "      <td>1</td>\n",
              "      <td>0</td>\n",
              "      <td>1</td>\n",
              "      <td>363</td>\n",
              "    </tr>\n",
              "  </tbody>\n",
              "</table>\n",
              "</div>"
            ],
            "text/plain": [
              "             id  ... availability_365\n",
              "2909    2768499  ...                0\n",
              "15766  14221134  ...              365\n",
              "33494  42012781  ...              363\n",
              "\n",
              "[3 rows x 13 columns]"
            ]
          },
          "metadata": {
            "tags": []
          },
          "execution_count": 58
        }
      ]
    },
    {
      "cell_type": "code",
      "metadata": {
        "id": "hkLIaxqdHqVZ",
        "colab": {
          "base_uri": "https://localhost:8080/",
          "height": 436
        },
        "outputId": "edc2ec3a-aa4b-468c-cf60-09bf81382171"
      },
      "source": [
        "# Ver quantidade de imóveis no Leblon\n",
        "print(df_clean.loc[df_clean.neighbourhood == \"Leblon\"].shape)\n",
        "\n",
        "# Verificar as entradas para Leblon\n",
        "df_clean.loc[df_clean.neighbourhood == \"Leblon\"]"
      ],
      "execution_count": 59,
      "outputs": [
        {
          "output_type": "stream",
          "text": [
            "(1393, 13)\n"
          ],
          "name": "stdout"
        },
        {
          "output_type": "execute_result",
          "data": {
            "text/html": [
              "<div>\n",
              "<style scoped>\n",
              "    .dataframe tbody tr th:only-of-type {\n",
              "        vertical-align: middle;\n",
              "    }\n",
              "\n",
              "    .dataframe tbody tr th {\n",
              "        vertical-align: top;\n",
              "    }\n",
              "\n",
              "    .dataframe thead th {\n",
              "        text-align: right;\n",
              "    }\n",
              "</style>\n",
              "<table border=\"1\" class=\"dataframe\">\n",
              "  <thead>\n",
              "    <tr style=\"text-align: right;\">\n",
              "      <th></th>\n",
              "      <th>id</th>\n",
              "      <th>name</th>\n",
              "      <th>host_id</th>\n",
              "      <th>host_name</th>\n",
              "      <th>neighbourhood</th>\n",
              "      <th>latitude</th>\n",
              "      <th>longitude</th>\n",
              "      <th>room_type</th>\n",
              "      <th>price</th>\n",
              "      <th>minimum_nights</th>\n",
              "      <th>number_of_reviews</th>\n",
              "      <th>calculated_host_listings_count</th>\n",
              "      <th>availability_365</th>\n",
              "    </tr>\n",
              "  </thead>\n",
              "  <tbody>\n",
              "    <tr>\n",
              "      <th>31</th>\n",
              "      <td>86670</td>\n",
              "      <td>AMAZING VIEW ON THE LEBLON/IPANEMA BOARDER.</td>\n",
              "      <td>474221</td>\n",
              "      <td>June</td>\n",
              "      <td>Leblon</td>\n",
              "      <td>-22.98361</td>\n",
              "      <td>-43.21827</td>\n",
              "      <td>Entire home/apt</td>\n",
              "      <td>138</td>\n",
              "      <td>2</td>\n",
              "      <td>91</td>\n",
              "      <td>7</td>\n",
              "      <td>163</td>\n",
              "    </tr>\n",
              "    <tr>\n",
              "      <th>37</th>\n",
              "      <td>89454</td>\n",
              "      <td>Charm with a great location Leblon</td>\n",
              "      <td>487000</td>\n",
              "      <td>Patricia</td>\n",
              "      <td>Leblon</td>\n",
              "      <td>-22.98668</td>\n",
              "      <td>-43.22171</td>\n",
              "      <td>Entire home/apt</td>\n",
              "      <td>487</td>\n",
              "      <td>2</td>\n",
              "      <td>43</td>\n",
              "      <td>3</td>\n",
              "      <td>363</td>\n",
              "    </tr>\n",
              "    <tr>\n",
              "      <th>49</th>\n",
              "      <td>99971</td>\n",
              "      <td>Right in front of the beach in Rio!</td>\n",
              "      <td>525976</td>\n",
              "      <td>Ricardo</td>\n",
              "      <td>Leblon</td>\n",
              "      <td>-22.98857</td>\n",
              "      <td>-43.22716</td>\n",
              "      <td>Entire home/apt</td>\n",
              "      <td>242</td>\n",
              "      <td>3</td>\n",
              "      <td>107</td>\n",
              "      <td>1</td>\n",
              "      <td>239</td>\n",
              "    </tr>\n",
              "    <tr>\n",
              "      <th>68</th>\n",
              "      <td>137002</td>\n",
              "      <td>Very sophisticated in the mettle of Leblon</td>\n",
              "      <td>635510</td>\n",
              "      <td>Gilberto</td>\n",
              "      <td>Leblon</td>\n",
              "      <td>-22.98346</td>\n",
              "      <td>-43.22032</td>\n",
              "      <td>Entire home/apt</td>\n",
              "      <td>658</td>\n",
              "      <td>3</td>\n",
              "      <td>13</td>\n",
              "      <td>7</td>\n",
              "      <td>298</td>\n",
              "    </tr>\n",
              "    <tr>\n",
              "      <th>69</th>\n",
              "      <td>137048</td>\n",
              "      <td>Charming 2 bedroom flat in Leblon</td>\n",
              "      <td>670198</td>\n",
              "      <td>Clarisse</td>\n",
              "      <td>Leblon</td>\n",
              "      <td>-22.98002</td>\n",
              "      <td>-43.22371</td>\n",
              "      <td>Entire home/apt</td>\n",
              "      <td>243</td>\n",
              "      <td>3</td>\n",
              "      <td>32</td>\n",
              "      <td>1</td>\n",
              "      <td>1</td>\n",
              "    </tr>\n",
              "    <tr>\n",
              "      <th>...</th>\n",
              "      <td>...</td>\n",
              "      <td>...</td>\n",
              "      <td>...</td>\n",
              "      <td>...</td>\n",
              "      <td>...</td>\n",
              "      <td>...</td>\n",
              "      <td>...</td>\n",
              "      <td>...</td>\n",
              "      <td>...</td>\n",
              "      <td>...</td>\n",
              "      <td>...</td>\n",
              "      <td>...</td>\n",
              "      <td>...</td>\n",
              "    </tr>\n",
              "    <tr>\n",
              "      <th>35751</th>\n",
              "      <td>43442810</td>\n",
              "      <td>Suite com acesso a terraço com jacuzzi</td>\n",
              "      <td>9847358</td>\n",
              "      <td>Marcia</td>\n",
              "      <td>Leblon</td>\n",
              "      <td>-22.98114</td>\n",
              "      <td>-43.22494</td>\n",
              "      <td>Private room</td>\n",
              "      <td>110</td>\n",
              "      <td>29</td>\n",
              "      <td>0</td>\n",
              "      <td>2</td>\n",
              "      <td>179</td>\n",
              "    </tr>\n",
              "    <tr>\n",
              "      <th>35768</th>\n",
              "      <td>43465334</td>\n",
              "      <td>Leblon Ocean - Flat Vista Mar - 56m2</td>\n",
              "      <td>24690821</td>\n",
              "      <td>Jorge &amp; Tatiana</td>\n",
              "      <td>Leblon</td>\n",
              "      <td>-22.98294</td>\n",
              "      <td>-43.22701</td>\n",
              "      <td>Entire home/apt</td>\n",
              "      <td>365</td>\n",
              "      <td>2</td>\n",
              "      <td>0</td>\n",
              "      <td>2</td>\n",
              "      <td>90</td>\n",
              "    </tr>\n",
              "    <tr>\n",
              "      <th>35782</th>\n",
              "      <td>43495124</td>\n",
              "      <td>Leblon casa com vista linda</td>\n",
              "      <td>346884508</td>\n",
              "      <td>Allan</td>\n",
              "      <td>Leblon</td>\n",
              "      <td>-22.97904</td>\n",
              "      <td>-43.22447</td>\n",
              "      <td>Entire home/apt</td>\n",
              "      <td>448</td>\n",
              "      <td>1</td>\n",
              "      <td>0</td>\n",
              "      <td>1</td>\n",
              "      <td>0</td>\n",
              "    </tr>\n",
              "    <tr>\n",
              "      <th>35783</th>\n",
              "      <td>43495266</td>\n",
              "      <td>Rio Spot Leblon D049</td>\n",
              "      <td>13580277</td>\n",
              "      <td>Marcio</td>\n",
              "      <td>Leblon</td>\n",
              "      <td>-22.98454</td>\n",
              "      <td>-43.21892</td>\n",
              "      <td>Entire home/apt</td>\n",
              "      <td>332</td>\n",
              "      <td>1</td>\n",
              "      <td>0</td>\n",
              "      <td>65</td>\n",
              "      <td>365</td>\n",
              "    </tr>\n",
              "    <tr>\n",
              "      <th>35788</th>\n",
              "      <td>43514675</td>\n",
              "      <td>Quarto no Leblon</td>\n",
              "      <td>15233889</td>\n",
              "      <td>Viviane</td>\n",
              "      <td>Leblon</td>\n",
              "      <td>-22.98287</td>\n",
              "      <td>-43.22014</td>\n",
              "      <td>Private room</td>\n",
              "      <td>55</td>\n",
              "      <td>2</td>\n",
              "      <td>0</td>\n",
              "      <td>1</td>\n",
              "      <td>305</td>\n",
              "    </tr>\n",
              "  </tbody>\n",
              "</table>\n",
              "<p>1393 rows × 13 columns</p>\n",
              "</div>"
            ],
            "text/plain": [
              "             id  ... availability_365\n",
              "31        86670  ...              163\n",
              "37        89454  ...              363\n",
              "49        99971  ...              239\n",
              "68       137002  ...              298\n",
              "69       137048  ...                1\n",
              "...         ...  ...              ...\n",
              "35751  43442810  ...              179\n",
              "35768  43465334  ...               90\n",
              "35782  43495124  ...                0\n",
              "35783  43495266  ...              365\n",
              "35788  43514675  ...              305\n",
              "\n",
              "[1393 rows x 13 columns]"
            ]
          },
          "metadata": {
            "tags": []
          },
          "execution_count": 59
        }
      ]
    },
    {
      "cell_type": "markdown",
      "metadata": {
        "id": "JsGp9X68dXMR"
      },
      "source": [
        "Para verificarmos quais bairros possuem dados realmente qualitativos, onde possamos levar em consideração para uma análise de dados, podemos calcular o Intervalo de Confiança da variável preço entre todos os bairros."
      ]
    },
    {
      "cell_type": "code",
      "metadata": {
        "id": "vON8aJD4y80s"
      },
      "source": [
        "# Criando uma função para calcular Intervalo de Confiança de todos os bairros.\n",
        "def CI(a):\n",
        "  a = np.asarray(a)\n",
        "  confidence_level = 0.95\n",
        "  degrees_freedom = len(a) - 1\n",
        "  sample_mean = np.mean(a)\n",
        "  sample_standard_error = scipy.stats.sem(a)\n",
        "\n",
        "  confidence_interval = scipy.stats.t.interval(confidence_level, degrees_freedom, sample_mean, sample_standard_error)\n",
        "\n",
        "  return confidence_interval"
      ],
      "execution_count": 96,
      "outputs": []
    },
    {
      "cell_type": "code",
      "metadata": {
        "colab": {
          "base_uri": "https://localhost:8080/"
        },
        "id": "ZnHKQqyiqa38",
        "outputId": "0ceb43f3-7c32-43f1-87a7-9ab0e6f23d8f"
      },
      "source": [
        "# Extraindo o intervalo de Confiança 95% de todos os bairros.\n",
        "df_clean.groupby('neighbourhood')['price'].agg(CI)"
      ],
      "execution_count": 103,
      "outputs": [
        {
          "output_type": "stream",
          "text": [
            "/usr/local/lib/python3.6/dist-packages/numpy/core/_methods.py:217: RuntimeWarning: Degrees of freedom <= 0 for slice\n",
            "  keepdims=keepdims)\n",
            "/usr/local/lib/python3.6/dist-packages/numpy/core/_methods.py:209: RuntimeWarning: invalid value encountered in double_scalars\n",
            "  ret = ret.dtype.type(ret / rcount)\n"
          ],
          "name": "stderr"
        },
        {
          "output_type": "execute_result",
          "data": {
            "text/plain": [
              "neighbourhood\n",
              "Abolição              (107.02823835849392, 880.9717616415061)\n",
              "Alto da Boa Vista     (365.19211275188366, 611.8578872481163)\n",
              "Anchieta               (89.82556572797046, 862.5744342720295)\n",
              "Andaraí                 (216.1350796477592, 359.618345009775)\n",
              "Anil                 (248.97746354416228, 407.36215909734716)\n",
              "                                       ...                   \n",
              "Vila Militar         (-69.76825210075302, 209.76825210075302)\n",
              "Vila Valqueire         (139.76683406771053, 488.804594503718)\n",
              "Vila da Penha          (80.0198753775843, 412.44166308395415)\n",
              "Vista Alegre         (-69.76825210075302, 209.76825210075302)\n",
              "Água Santa            (-343.2522440215039, 817.2522440215039)\n",
              "Name: price, Length: 155, dtype: object"
            ]
          },
          "metadata": {
            "tags": []
          },
          "execution_count": 103
        }
      ]
    },
    {
      "cell_type": "markdown",
      "metadata": {
        "id": "efHHxz9WeoI7"
      },
      "source": [
        "Uma vez que tenhamos o intervalo de confiança de todos os bairros, vamos verificar exatamente, os bairros Vaz Lobo e Leblon. "
      ]
    },
    {
      "cell_type": "code",
      "metadata": {
        "id": "nAXrD_c7ny9N",
        "colab": {
          "base_uri": "https://localhost:8080/"
        },
        "outputId": "435698c5-fd40-4c2b-f234-d4ba57c8f763"
      },
      "source": [
        "# Preços do bairro Vaz Lobo\n",
        "vaz_lobo = list()\n",
        "\n",
        "for i in range(len(df_clean)):\n",
        "  if df_clean.iloc[i,4] == 'Vaz Lobo':\n",
        "    vaz_lobo.append(df_clean.iloc[i,8])\n",
        "\n",
        "print(vaz_lobo)"
      ],
      "execution_count": 65,
      "outputs": [
        {
          "output_type": "stream",
          "text": [
            "[1001, 1350, 302]\n"
          ],
          "name": "stdout"
        }
      ]
    },
    {
      "cell_type": "code",
      "metadata": {
        "id": "MltnGcgtTtku",
        "colab": {
          "base_uri": "https://localhost:8080/"
        },
        "outputId": "8fb7e7ba-deaf-49d1-a2fe-1e568a522646"
      },
      "source": [
        "# Intervalo de confiança 95% para bairro Vaz Lobo\n",
        "\n",
        "sample = vaz_lobo\n",
        "confidence_level = 0.95\n",
        "degrees_freedom = len(sample) - 1\n",
        "sample_mean = np.mean(sample)\n",
        "sample_standard_error = scipy.stats.sem(sample)\n",
        "\n",
        "confidence_interval = scipy.stats.t.interval(confidence_level, degrees_freedom, sample_mean, sample_standard_error)\n",
        "\n",
        "print(confidence_interval)"
      ],
      "execution_count": 66,
      "outputs": [
        {
          "output_type": "stream",
          "text": [
            "(-441.3314367926831, 2209.9981034593497)\n"
          ],
          "name": "stdout"
        }
      ]
    },
    {
      "cell_type": "code",
      "metadata": {
        "id": "2r7IoSNlwpsG",
        "colab": {
          "base_uri": "https://localhost:8080/"
        },
        "outputId": "c89fbe5b-ef35-444c-f495-3392ee2bcf19"
      },
      "source": [
        "# Preços do bairro Leblon\n",
        "leblon = list()\n",
        "\n",
        "for i in range(len(df_clean)):\n",
        "  if df_clean.iloc[i, 4] == 'Leblon':\n",
        "    leblon.append(df_clean.iloc[i, 8])\n",
        "\n",
        "print(leblon)"
      ],
      "execution_count": 67,
      "outputs": [
        {
          "output_type": "stream",
          "text": [
            "[138, 487, 242, 658, 243, 324, 819, 93, 140, 111, 440, 249, 387, 421, 487, 281, 1383, 548, 188, 124, 270, 1078, 1001, 481, 415, 198, 160, 487, 835, 144, 835, 232, 498, 199, 500, 382, 249, 448, 221, 176, 597, 249, 497, 199, 209, 398, 199, 293, 247, 608, 130, 382, 448, 321, 658, 299, 398, 99, 299, 1200, 393, 271, 431, 359, 352, 299, 1001, 1200, 559, 968, 498, 498, 802, 155, 902, 802, 492, 581, 348, 265, 702, 171, 498, 548, 348, 248, 792, 200, 199, 315, 398, 271, 498, 592, 297, 371, 199, 770, 600, 1101, 194, 492, 1272, 951, 1499, 1001, 1094, 282, 183, 653, 935, 597, 1106, 116, 352, 597, 470, 1399, 210, 802, 1499, 332, 302, 470, 1300, 498, 1199, 502, 324, 293, 1100, 299, 503, 429, 249, 476, 221, 183, 199, 492, 902, 1001, 498, 398, 1200, 393, 498, 599, 427, 299, 299, 151, 498, 1001, 448, 597, 470, 315, 400, 398, 183, 448, 1150, 146, 348, 216, 221, 1499, 1200, 901, 1189, 351, 1499, 870, 1349, 249, 149, 979, 99, 420, 459, 200, 448, 803, 802, 249, 1001, 384, 238, 600, 401, 171, 798, 302, 1283, 885, 1200, 199, 198, 409, 232, 426, 642, 398, 929, 1084, 907, 321, 1383, 302, 111, 288, 597, 553, 321, 608, 448, 277, 199, 249, 198, 171, 171, 199, 282, 348, 702, 249, 420, 210, 448, 188, 232, 592, 133, 498, 151, 1100, 752, 498, 848, 199, 1200, 177, 1200, 995, 282, 810, 271, 398, 348, 299, 802, 448, 111, 498, 393, 1272, 398, 221, 653, 299, 288, 249, 199, 448, 780, 431, 271, 199, 459, 352, 597, 691, 299, 335, 299, 653, 1001, 248, 990, 254, 420, 88, 160, 160, 1383, 130, 382, 432, 133, 581, 400, 247, 1001, 199, 348, 221, 398, 453, 398, 409, 398, 559, 420, 400, 498, 88, 653, 351, 167, 122, 588, 448, 210, 310, 448, 111, 299, 794, 1053, 702, 348, 1311, 789, 387, 431, 304, 448, 282, 597, 1086, 181, 149, 1200, 348, 310, 802, 354, 1499, 1200, 1399, 348, 192, 329, 802, 448, 299, 359, 1200, 1106, 199, 796, 72, 271, 199, 548, 393, 481, 199, 299, 600, 378, 321, 86, 183, 299, 199, 72, 299, 299, 348, 398, 288, 830, 597, 603, 154, 199, 702, 968, 382, 221, 415, 225, 498, 367, 121, 999, 348, 664, 319, 199, 968, 351, 359, 548, 1080, 901, 1200, 848, 247, 451, 702, 597, 299, 802, 1001, 451, 393, 498, 398, 1383, 1493, 553, 1051, 502, 1106, 299, 448, 1499, 698, 348, 77, 442, 686, 951, 570, 398, 553, 1001, 398, 719, 752, 160, 426, 1145, 249, 647, 1001, 901, 1139, 310, 348, 232, 299, 302, 360, 443, 249, 302, 724, 548, 249, 451, 498, 200, 398, 199, 1499, 680, 802, 379, 299, 282, 1200, 852, 398, 531, 1200, 502, 249, 802, 1500, 302, 600, 802, 492, 470, 559, 1499, 498, 830, 1300, 326, 1383, 398, 348, 736, 502, 299, 1001, 902, 1001, 1101, 448, 752, 299, 648, 299, 1001, 332, 1051, 348, 249, 199, 902, 1499, 756, 810, 500, 553, 249, 232, 979, 448, 420, 299, 249, 249, 1499, 249, 1300, 160, 553, 1488, 247, 389, 396, 321, 553, 398, 293, 548, 448, 597, 852, 669, 1001, 1001, 1001, 1001, 426, 348, 581, 288, 288, 597, 198, 616, 1101, 199, 553, 357, 398, 183, 199, 1200, 105, 752, 259, 1101, 1151, 398, 149, 401, 1499, 990, 459, 382, 249, 597, 1001, 653, 896, 437, 133, 1206, 802, 160, 498, 1402, 599, 802, 448, 1200, 825, 401, 221, 448, 797, 148, 299, 379, 956, 1499, 799, 299, 802, 398, 110, 548, 1001, 1001, 232, 157, 332, 520, 149, 249, 181, 680, 282, 227, 260, 1001, 653, 802, 476, 100, 1200, 498, 548, 487, 398, 1451, 348, 1399, 498, 1001, 550, 1001, 625, 299, 359, 907, 199, 221, 398, 498, 199, 199, 181, 249, 802, 589, 302, 210, 199, 901, 484, 199, 302, 702, 352, 448, 498, 199, 470, 348, 951, 360, 122, 802, 448, 553, 470, 702, 752, 1499, 348, 1261, 248, 708, 553, 183, 299, 1272, 348, 138, 420, 498, 1001, 698, 498, 371, 354, 302, 448, 691, 597, 990, 890, 748, 183, 299, 597, 830, 420, 348, 498, 225, 702, 1001, 302, 288, 697, 348, 189, 299, 368, 995, 393, 597, 387, 302, 625, 281, 299, 288, 127, 803, 492, 548, 437, 445, 332, 116, 387, 588, 111, 979, 398, 138, 199, 103, 249, 205, 465, 259, 489, 199, 220, 299, 561, 249, 199, 171, 260, 830, 116, 116, 198, 89, 149, 1499, 199, 498, 548, 132, 409, 599, 122, 166, 398, 1200, 1217, 852, 564, 1499, 1001, 88, 299, 119, 210, 1001, 249, 116, 321, 299, 249, 498, 382, 198, 149, 335, 703, 691, 581, 221, 548, 348, 100, 166, 166, 498, 232, 198, 702, 148, 82, 724, 398, 348, 448, 232, 376, 183, 387, 299, 302, 326, 703, 540, 115, 1001, 752, 1001, 183, 159, 332, 1200, 149, 448, 537, 337, 702, 188, 348, 188, 50, 1349, 210, 199, 200, 282, 498, 299, 332, 243, 299, 199, 348, 238, 680, 448, 431, 537, 308, 802, 299, 597, 221, 149, 522, 249, 299, 454, 83, 553, 437, 277, 77, 332, 968, 199, 1233, 448, 188, 592, 149, 288, 929, 332, 332, 332, 498, 194, 299, 420, 154, 227, 77, 166, 398, 1200, 398, 183, 199, 564, 451, 348, 227, 249, 221, 442, 181, 597, 181, 299, 232, 88, 183, 1449, 199, 83, 248, 481, 708, 282, 802, 653, 282, 658, 171, 390, 260, 259, 302, 502, 299, 299, 69, 183, 401, 896, 249, 802, 498, 188, 299, 531, 183, 249, 199, 401, 409, 352, 352, 332, 288, 249, 247, 299, 548, 398, 299, 1300, 703, 277, 360, 398, 415, 420, 498, 299, 498, 802, 1484, 548, 183, 321, 548, 221, 291, 597, 321, 110, 398, 302, 199, 901, 702, 448, 548, 802, 578, 398, 282, 703, 1318, 500, 348, 199, 166, 481, 620, 348, 324, 487, 400, 597, 177, 282, 183, 1416, 398, 330, 382, 149, 398, 81, 390, 841, 171, 181, 308, 352, 548, 597, 264, 581, 258, 221, 210, 548, 1499, 597, 1199, 183, 348, 315, 1001, 288, 232, 299, 111, 796, 901, 1001, 448, 802, 752, 138, 979, 299, 600, 100, 448, 1300, 387, 271, 962, 448, 352, 597, 597, 348, 288, 620, 282, 796, 354, 188, 170, 393, 503, 138, 1499, 398, 288, 401, 332, 192, 282, 500, 819, 448, 520, 698, 302, 597, 498, 111, 221, 431, 299, 503, 448, 299, 282, 902, 348, 183, 260, 448, 398, 702, 390, 492, 348, 171, 247, 188, 492, 542, 398, 66, 478, 394, 431, 299, 299, 348, 531, 199, 288, 999, 592, 198, 382, 88, 548, 149, 348, 138, 553, 597, 165, 1499, 1499, 412, 249, 600, 448, 365, 890, 199, 162, 599, 767, 1001, 77, 448, 398, 348, 492, 288, 299, 221, 393, 498, 664, 540, 885, 1311, 440, 138, 119, 1499, 500, 597, 171, 448, 122, 232, 149, 1001, 249, 321, 232, 183, 702, 502, 448, 398, 599, 315, 271, 448, 597, 398, 299, 200, 100, 1122, 500, 498, 1292, 614, 238, 597, 379, 398, 277, 500, 249, 348, 649, 597, 400, 990, 351, 88, 149, 492, 288, 359, 183, 315, 348, 304, 352, 221, 260, 498, 398, 500, 448, 337, 1001, 354, 553, 648, 277, 288, 379, 1296, 951, 703, 525, 398, 498, 149, 934, 232, 448, 249, 500, 608, 149, 774, 664, 802, 551, 774, 802, 702, 288, 803, 481, 133, 415, 293, 133, 437, 348, 802, 653, 1200, 533, 448, 597, 354, 188, 171, 216, 1001, 664, 999, 426, 260, 647, 249, 420, 653, 999, 302, 249, 555, 181, 852, 238, 249, 335, 357, 400, 802, 299, 171, 448, 181, 248, 1001, 72, 188, 260, 802, 249, 400, 221, 220, 220, 702, 297, 398, 586, 697, 597, 321, 999, 346, 199, 148, 802, 502, 260, 597, 348, 133, 288, 199, 1001, 299, 702, 1499, 149, 748, 249, 498, 304, 400, 802, 588, 400, 1499, 1477, 498, 664, 702, 802, 918, 1200, 852, 291, 199, 1200, 238, 498, 302, 1399, 348, 1248, 559, 698, 192, 160, 335, 171, 100, 551, 121, 398, 548, 280, 310, 183, 852, 116, 902, 249, 181, 498, 308, 227, 227, 1372, 498, 459, 181, 166, 149, 232, 332, 332, 332, 232, 514, 539, 600, 88, 113, 302, 498, 265, 1100, 337, 559, 110, 365, 448, 332, 55]\n"
          ],
          "name": "stdout"
        }
      ]
    },
    {
      "cell_type": "code",
      "metadata": {
        "id": "Z5VBR03mxKAD",
        "colab": {
          "base_uri": "https://localhost:8080/"
        },
        "outputId": "de0a7c76-392d-43ef-bb78-88901d61d05f"
      },
      "source": [
        "# Intervalo de confiança de 95% para bairro Leblon\n",
        "\n",
        "sample = leblon\n",
        "confidence_level = 0.95\n",
        "degrees_freedom = len(sample) - 1\n",
        "sample_mean = np.mean(sample)\n",
        "sample_standard_error = scipy.stats.sem(sample)\n",
        "\n",
        "confidence_interval = scipy.stats.t.interval(confidence_level, degrees_freedom, sample_mean, sample_standard_error)\n",
        "\n",
        "print(confidence_interval)"
      ],
      "execution_count": 68,
      "outputs": [
        {
          "output_type": "stream",
          "text": [
            "(476.51726262892646, 511.0132470623872)\n"
          ],
          "name": "stdout"
        }
      ]
    },
    {
      "cell_type": "markdown",
      "metadata": {
        "id": "VGDyDizffHld"
      },
      "source": [
        "Podemos observar o quanto os dados do Preço para o bairro Vaz Lobo não são confiáveis enquanto para o Leblon há um intervalo interessante.\n",
        "Para Vaz Lobo, os dados me dizem que é 95% confiável que o preço médio da diária pode variar de - R$ 441.33 até 2210 reais.\n",
        "\n",
        "Na prática eu poderia até receber para me hospedar em um imóvel em Vaz Lobo, o que, obviamente, não condiz com a realidade. \n",
        "\n",
        "Como comparação, no bairro Leblon podemos pagar entre R$ 476.52 até 511 reais."
      ]
    },
    {
      "cell_type": "markdown",
      "metadata": {
        "id": "FvG3eSr4U_vl"
      },
      "source": [
        "## Localização dos imóveis pela longitude e latitude\n",
        "\n",
        "Como temos os pontos de longitude e latitude de cada imóvel, podemos plotar um scatter plot mostrando a localização de cada imóvel em relação ao seu preço.\n",
        "\n",
        "É possível perceber que a maioria dos imóveis estão concentrados mais próximo ao litoral e pontos turísticos (zona sul e central da cidade) e os preços mais praticados estão abaixo de R$ 800,00."
      ]
    },
    {
      "cell_type": "code",
      "metadata": {
        "id": "zIASsAOYR9F7"
      },
      "source": [
        "# Plotando um Scatter plot pela longitude e latitude dos imóveis\n",
        "fig, ax = plt.subplots()\n",
        "\n",
        "df_clean.plot.scatter(x = 'longitude', y = 'latitude', c = 'price', ax = ax, s = 20, figsize = (15, 8), alpha = 1, cmap=plt.get_cmap('RdBu'))\n",
        "ax.set_title('Scatter plot: Longitude x latitude', size = 18)\n",
        "ax.set_xlabel('Longitude', size = 15)\n",
        "ax.set_ylabel('Latitude', size = 15);\n",
        "\n",
        "plt.show()\n"
      ],
      "execution_count": null,
      "outputs": []
    },
    {
      "cell_type": "markdown",
      "metadata": {
        "id": "Est_I94l6ThN"
      },
      "source": [
        "## Analisando os anúncios de imóveis em Vaz Lobo\n",
        "\n",
        "Ao verificar os dados para os imóveis em Vaz Lobo, cria-se uma curiosidade em conhecer os anúncios na plataforma.\n",
        "\n",
        "É possível acessar um arquivo no mesmo portal [Inside Airbnb](http://insideairbnb.com/get-the-data.html), com mais dados do que o acessado para a análise exploratória feita até aqui.\n",
        "\n",
        "Neste novo dataset (listings.csv.gz) conseguimos visualizar o link para o anúncio em específico e analisar de forma direta o imóvel em Vaz Lobo."
      ]
    },
    {
      "cell_type": "code",
      "metadata": {
        "id": "jnGFnuwg2jBh"
      },
      "source": [
        "# Importar dados\n",
        "df_full = pd.read_csv(\"http://data.insideairbnb.com/brazil/rj/rio-de-janeiro/2020-05-24/data/listings.csv.gz\")"
      ],
      "execution_count": null,
      "outputs": []
    },
    {
      "cell_type": "code",
      "metadata": {
        "id": "bUCFD0da7xA-"
      },
      "source": [
        "# Acessar os imóveis em Vaz Lobo\n",
        "df_full.loc[df.neighbourhood == \"Vaz Lobo\"].head()"
      ],
      "execution_count": null,
      "outputs": []
    },
    {
      "cell_type": "markdown",
      "metadata": {
        "id": "s5qOK3L4lTRj"
      },
      "source": [
        "Ao acessar os 3 links é possível verificar que:\n",
        "\n",
        "- No primeiro há apenas 1 foto que é a do próprio anfitrião do imóvel.\n",
        "> Acrescenta ainda a informação de que o imóvel fica 40 minutos distante do estádio Maracanã. Mas é importante estudar o contexto desta informação como horário, tipo de transporte, os bairros por onde irá passar até chegar ao Maracanã e o quão referência é para você o Maracanã já que os demais pontos turísticos ficam geograficamente, além do estádio.\n",
        "\n",
        "\n",
        "- O segundo possui fotos de um imóvel normalmente;\n",
        "> Como esperado.\n",
        "\n",
        "- O terceiro, após fotos de um imóvel, mostra fotos de praia.\n",
        "> As fotos da praia supõem a existência de uma próxima ao imóvel. Porém, a praia mais próxima de Vaz Lobo é a Praia de Copabana, quase 30km distante de Vaz Lobo e com características totalmente diferentes das apresentadas na foto. Deduzo então que as fotos do imóvel não são de um imóvel em Vaz Lobo, ou  que, o imóvel fica em Vaz Lobo e as fotos da praia foram incluídas ali por algum outro motivo desconhecido.\n",
        "\n",
        "\n",
        "\n",
        "Esta pesquisa complementar, corrobora com a tese de que é muito importante verificar a representatividade dos dados acessados. O fato de termos dados não significa que estes representam a verdade absoluta.\n",
        "\n",
        "É indispensável buscar **conhecimento** sobre o que se está analisando além de **senso crítico**."
      ]
    },
    {
      "cell_type": "markdown",
      "metadata": {
        "id": "cx6fOzcn0Nre"
      },
      "source": [
        "## Plotando uma wordcloud\n",
        "\n",
        "Uma vez que este novo arquivo foi acessado, podemos usar a coluna `summary` para ver a descrição do imóvel.\n",
        "\n",
        "Com esta descrição iremos gerar uma wordcloud com a imagem do Cristo Redentor, uma das sete maravilhas do mundo moderno e principal ponto turístico do Rio de Janeiro, com as palavras mais utilizadas nas descrições dos imóveis."
      ]
    },
    {
      "cell_type": "markdown",
      "metadata": {
        "id": "X76Eg5kn54vr"
      },
      "source": [
        "Vamos verificar e excluir as linhas com dados ausentes na coluna `summary` já que não nos ajudará com a criação da wordcloud."
      ]
    },
    {
      "cell_type": "code",
      "metadata": {
        "id": "sH56jZkw4Wh4"
      },
      "source": [
        "# Ver a quantidade de valores ausentes\n",
        "print(\"Quantidade de valores ausentes: \", df_full.summary.isnull().sum())"
      ],
      "execution_count": null,
      "outputs": []
    },
    {
      "cell_type": "markdown",
      "metadata": {
        "id": "9zYxVPOBu9Dn"
      },
      "source": [
        "Excluir as linhas já atribuindo a uma outra variável."
      ]
    },
    {
      "cell_type": "code",
      "metadata": {
        "id": "_puwdS3wu6AJ"
      },
      "source": [
        "# Excluir valores ausentes\n",
        "summary = df_full.dropna(subset=['summary'], axis = 0)['summary']"
      ],
      "execution_count": null,
      "outputs": []
    },
    {
      "cell_type": "markdown",
      "metadata": {
        "id": "kkTqw3gLvpJu"
      },
      "source": [
        "Para criar a wordcloud, vou concatenar as *strings*, fazendo com que sejam apenas uma linha."
      ]
    },
    {
      "cell_type": "code",
      "metadata": {
        "id": "burprDecvoqQ"
      },
      "source": [
        "# Concatenar strings\n",
        "all_summary = \" \".join(s for s in summary)\n",
        "\n",
        "print(\"Quantidade de palavras: {}\".format(len(all_summary)))"
      ],
      "execution_count": null,
      "outputs": []
    },
    {
      "cell_type": "markdown",
      "metadata": {
        "id": "ADCUD3E71AHg"
      },
      "source": [
        "Iremos usar estes dados para criar nossa wordcloud removendo preposições e palavras que não irão agregar.\n",
        "\n",
        "Além disso, usaremos uma imagem para deixar a wordcloud ainda mais carioca."
      ]
    },
    {
      "cell_type": "code",
      "metadata": {
        "id": "I5GywoFN19YN"
      },
      "source": [
        "# Instalar WordCloud\n",
        "!pip install wordcloud -q\n",
        "\n",
        "# Importar os pacotes necessários\n",
        "from wordcloud import WordCloud, STOPWORDS, ImageColorGenerator\n",
        "from PIL import Image"
      ],
      "execution_count": null,
      "outputs": []
    },
    {
      "cell_type": "code",
      "metadata": {
        "id": "x-s0r5vo92aE"
      },
      "source": [
        "# concatenar as palavras\n",
        "all_summary = \" \".join(s for s in summary)\n",
        " \n",
        "# lista de stopword\n",
        "stopwords = set(STOPWORDS)\n",
        "stopwords.update([\"da\", \"meu\", \"em\", \"você\", \"de\", \"ao\", \"os\"])\n",
        " \n",
        "# gerar uma wordcloud\n",
        "wordcloud = WordCloud(stopwords=stopwords,\n",
        "                      background_color=\"black\",\n",
        "                      width=1600, height=800).generate(all_summary)\n",
        " \n",
        "# mostrar a imagem final\n",
        "fig, ax = plt.subplots(figsize=(10,6))\n",
        "ax.imshow(wordcloud, interpolation='bilinear')\n",
        "ax.set_axis_off()\n",
        " \n",
        "plt.imshow(wordcloud);\n",
        "wordcloud.to_file(\"airbnb_summary_wordcloud.png\");"
      ],
      "execution_count": null,
      "outputs": []
    },
    {
      "cell_type": "code",
      "metadata": {
        "id": "RBly8N6f4DdZ"
      },
      "source": [
        "# endereço LOCAL da SUA imagem\n",
        "rio_mask = np.array(Image.open(\"/content/Cristo Redentor.jpg\"))\n",
        "   \n",
        "# gerar uma wordcloud\n",
        "wordcloud = WordCloud(stopwords=stopwords,\n",
        "                      background_color=\"white\",\n",
        "                      width=1000, height=1000, max_words=5000,\n",
        "                      mask=rio_mask, max_font_size=200,\n",
        "                      min_font_size=1).generate(all_summary)\n",
        "\n",
        "# mostrar a imagem final\n",
        "fig, ax = plt.subplots(figsize=(10,10))\n",
        "ax.imshow(wordcloud, interpolation='bilinear')\n",
        "ax.set_axis_off()\n",
        "\n",
        "plt.imshow(wordcloud)\n",
        "wordcloud.to_file(\"airbnb_summary_wordcloud.png\");"
      ],
      "execution_count": null,
      "outputs": []
    },
    {
      "cell_type": "markdown",
      "metadata": {
        "id": "sNn2LJO57nZF"
      },
      "source": [
        "##Conclusão\n",
        "\n",
        "Nesta análise pudemos verificar que o Rio de Janeiro possui 155 bairros com oferta de imóveis, apesar de haver uma concentração maior na Zona Sul e Centro da cidade. Nesta análise, chama atenção a necessidade de conciliarmos a análise dos dados com uma pesquisa complementar. Como visto, temos imóveis no bairro Vaz Lobo com preços mais elevados do que bairros como Leblon, área nobre da cidade com uma das melhores qualidades de vida. Isso nos levou a analisar a representatividade dos dados e perceber que:\n",
        "\n",
        "- Dados com pouca representatividade pode nos levar a uma análise deficitária e até errônea do cenário;\n",
        "\n",
        "- Dados podem conter algum tipo de viés próprio que deve ser investigado antes de chegarmos a alguma conclusão sobre a massa de dados analisada; \n",
        "\n",
        "- Soma-se à isso, a necessidade de sempre realizarmos uma pesquisa complementar. Uma rápida busca na internet, por exemplo, nos mostra que Vaz Lobo fica muito longe dos principais pontos da cidade e em um local com maior possibilidade de ocorrência de violência do que outros bairros.\n",
        "\n",
        "Esta não foi uma análise profunda, mas já foi possível perceber a existência de outliers e a necessidade de trabalhá-los para chegarmos a informações mais confiáveis. Além disso, percebemos que a existência de poucos dados, ou não representativos, podem distorcer as informações estatísticas."
      ]
    }
  ]
}